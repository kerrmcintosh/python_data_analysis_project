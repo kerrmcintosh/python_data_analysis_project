{
 "cells": [
  {
   "cell_type": "markdown",
   "metadata": {},
   "source": [
    "## Cleaning of Datasets"
   ]
  },
  {
   "cell_type": "markdown",
   "metadata": {},
   "source": [
    "####  1) Pull in Data from exploratory file"
   ]
  },
  {
   "cell_type": "code",
   "execution_count": null,
   "metadata": {},
   "outputs": [],
   "source": [
    "import pandas as pd\n",
    "import numpy as np"
   ]
  },
  {
   "cell_type": "code",
   "execution_count": null,
   "metadata": {},
   "outputs": [],
   "source": [
    "scheme_users = pd.read_csv(\"codeclan/scheme_users.csv\")\n",
    "\n",
    "scheme_jigs = pd.read_csv(\"codeclan/schemejigs.csv\")\n",
    "\n",
    "simd = pd.read_csv(\"codeclan/simd.csv\")\n",
    "\n",
    "jigger_details = pd.read_csv(\"codeclan/jiggerdetails.csv\")\n",
    "\n",
    "jigger_follow_ups = pd.read_csv(\"codeclan/jigger_follow_ups.csv\")\n"
   ]
  },
  {
   "cell_type": "markdown",
   "metadata": {},
   "source": [
    "#### 2) Dropping variables that not adding value"
   ]
  },
  {
   "cell_type": "code",
   "execution_count": null,
   "metadata": {},
   "outputs": [],
   "source": [
    "jigger_details_wip = jigger_details.drop(['email', 'firstName', 'lastName', 'address', 'city', 'postcode', 'simd_id', 'orig_scheme_id', 'optinfo', 'ageGroup_id', 'dataprotection', 'ethnicOrigin', 'landline', 'mobile', 'followupPermission',\n",
    "                                         'latestfollowup', 'followup_sent', 'followup_sent_date', 'followup_done', 'followup_remind_sent',\n",
    "                                        'last_jig_id', 'train_date_train', 'is_trained', 'train_date_dementia', 'train_date_refresh','train_date_firstaid','cohort_local', 'eNews', 'email_footnotes', 'post_footnotes',\n",
    "       'newfixesdone', 'safecode', 'regcode', ], axis=1)"
   ]
  },
  {
   "cell_type": "code",
   "execution_count": null,
   "metadata": {},
   "outputs": [],
   "source": [
    "#take only 2012 onwards\n",
    "import datetime\n",
    "jigger_details_wip['year'] = pd.to_datetime(jigger_details_wip.joinDate, errors =\"coerce\" )\n",
    "jigger_details_wip['year'] = jigger_details_wip['year'].dt.year.astype('Int64')\n",
    "\n"
   ]
  },
  {
   "cell_type": "markdown",
   "metadata": {},
   "source": [
    "#### 3) Pull in local authority anf 'friendliness' data to jigger_details"
   ]
  },
  {
   "cell_type": "code",
   "execution_count": null,
   "metadata": {},
   "outputs": [],
   "source": [
    "scheme_users.drop(scheme_users.columns.difference(['schemeID', 'friendly', 'localAuthority']), 1, inplace = True)"
   ]
  },
  {
   "cell_type": "code",
   "execution_count": null,
   "metadata": {},
   "outputs": [],
   "source": [
    "# adjust column name for simpler join\n",
    "scheme_users.rename(columns = {\"schemeID\" : \"scheme_id\"}, inplace = True)"
   ]
  },
  {
   "cell_type": "code",
   "execution_count": null,
   "metadata": {},
   "outputs": [],
   "source": [
    "jigger_details_wip = pd.merge(jigger_details_wip, scheme_users, how='left', on=['scheme_id'])"
   ]
  },
  {
   "cell_type": "code",
   "execution_count": null,
   "metadata": {},
   "outputs": [],
   "source": [
    "jigger_details_wip[jigger_details_wip.localAuthority.isna()]"
   ]
  },
  {
   "cell_type": "code",
   "execution_count": null,
   "metadata": {},
   "outputs": [],
   "source": [
    "jigger_details_wip = jigger_details_wip.drop(['scheme_id'], axis=1)"
   ]
  },
  {
   "cell_type": "markdown",
   "metadata": {},
   "source": [
    "##### 4) Pull in relevant SIMD data - and text removal from string\n",
    "The SIMD Id  columns in databases given are not correctly recorded so in the end I coul not use the below SIMD data"
   ]
  },
  {
   "cell_type": "code",
   "execution_count": null,
   "metadata": {},
   "outputs": [],
   "source": [
    "# actually, this wasnt possible as the SIMD id codes given in the data are incorrect.  Max should be 6976 - 25000 go above 6976\n",
    "# Only really wanted URname Can still take value from Working Age Population / Population - but not critical as lots more data to work back - will feedback to charity\n",
    "#simd.columns"
   ]
  },
  {
   "cell_type": "code",
   "execution_count": null,
   "metadata": {},
   "outputs": [],
   "source": [
    "#simd['DZ'] = simd['DZ'].map(lambda x: x.lstrip('S0100'))"
   ]
  },
  {
   "cell_type": "code",
   "execution_count": null,
   "metadata": {},
   "outputs": [],
   "source": [
    "#simd_wip = simd.drop(simd.columns.difference(['DZ', 'Population', 'Working_Age_Population', 'URname']), 1)"
   ]
  },
  {
   "cell_type": "code",
   "execution_count": null,
   "metadata": {},
   "outputs": [],
   "source": [
    "#simd_wip.URname.unique()"
   ]
  },
  {
   "cell_type": "code",
   "execution_count": null,
   "metadata": {},
   "outputs": [],
   "source": [
    "# adjust column name for simpler join\n",
    "#simd_wip.rename(columns = {\"DZ\" : \"simd_id\"}, inplace = True)"
   ]
  },
  {
   "cell_type": "code",
   "execution_count": null,
   "metadata": {},
   "outputs": [],
   "source": [
    "#jigger_details_wip['simd_id'] = jigger_details_wip['simd_id'].astype(str)"
   ]
  },
  {
   "cell_type": "code",
   "execution_count": null,
   "metadata": {},
   "outputs": [],
   "source": [
    "#jigger_details_wip = pd.merge(jigger_details_wip, simd_wip , how='left', on=['simd_id']) "
   ]
  },
  {
   "cell_type": "markdown",
   "metadata": {},
   "source": [
    "### Still Jigging - variable for use later"
   ]
  },
  {
   "cell_type": "code",
   "execution_count": null,
   "metadata": {},
   "outputs": [],
   "source": [
    "#Keep for use later\n",
    "still_Jigging = jigger_follow_ups.drop(jigger_follow_ups.columns.difference(['id', 'stilljigging']), 1)\n",
    "still_Jigging.rename(columns = {\"id\" : \"userID\"}, inplace = True)\n",
    "still_Jigging.to_csv ('codeclan/still_Jigging.csv', index = False, header=True)"
   ]
  },
  {
   "cell_type": "markdown",
   "metadata": {},
   "source": [
    "##### 5) Combine Anxiety and Depression into one column"
   ]
  },
  {
   "cell_type": "code",
   "execution_count": null,
   "metadata": {},
   "outputs": [],
   "source": [
    "jigger_details_wip.columns"
   ]
  },
  {
   "cell_type": "code",
   "execution_count": null,
   "metadata": {},
   "outputs": [],
   "source": [
    "jigger_details_wip['mental_health'] = (jigger_details_wip[['mentalHealth', 'anxietyDepression']] == 1).any(axis = 1).astype(int)"
   ]
  },
  {
   "cell_type": "code",
   "execution_count": null,
   "metadata": {},
   "outputs": [],
   "source": [
    "#checking numbers listed as having mental health problems in database\n",
    "jigger_details_wip.mental_health.sum()"
   ]
  },
  {
   "cell_type": "code",
   "execution_count": null,
   "metadata": {},
   "outputs": [],
   "source": [
    "#dropthese columns now have new column\n",
    "jigger_details_wip = jigger_details_wip.drop(['anxietyDepression', 'mentalHealth'], axis=1)"
   ]
  },
  {
   "cell_type": "markdown",
   "metadata": {},
   "source": [
    "#### 6) from here on I'm going to treat -1 in health issues (NAN) as 0 ... reason being I'm taking it user would have entered if relevant.  Focus is on the 1s"
   ]
  },
  {
   "cell_type": "code",
   "execution_count": null,
   "metadata": {},
   "outputs": [],
   "source": [
    "jigger_details_wip[['heartCondition', 'chestPainActive', 'chestPainOther',\n",
    "       'looseBalanceConsciousness', 'boneJointProblem', 'diabetes', 'asthma',\n",
    "       'bloodPressure', 'disabled', 'overweight', 'cancer', 'dementia', 'copd']] = jigger_details_wip[['heartCondition', 'chestPainActive', 'chestPainOther',\n",
    "       'looseBalanceConsciousness', 'boneJointProblem', 'diabetes', 'asthma',\n",
    "       'bloodPressure', 'disabled', 'overweight', 'cancer', 'dementia', 'copd']].replace([-1],0)"
   ]
  },
  {
   "cell_type": "code",
   "execution_count": null,
   "metadata": {},
   "outputs": [],
   "source": [
    "#Checking for asthm before I amalgamate \n",
    "jigger_details_wip.asthma.sum()"
   ]
  },
  {
   "cell_type": "markdown",
   "metadata": {},
   "source": [
    "##### 7) I'll now take what value I can from other health problems - as some are listed often or could be almagamated to existing variables"
   ]
  },
  {
   "cell_type": "code",
   "execution_count": null,
   "metadata": {},
   "outputs": [],
   "source": [
    "jigger_details_wip.otherProblems= jigger_details_wip['otherProblems'].astype(str)"
   ]
  },
  {
   "cell_type": "code",
   "execution_count": null,
   "metadata": {},
   "outputs": [],
   "source": [
    "# Will look through the below and look for \n",
    "from collections import Counter\n",
    "results = Counter()\n",
    "jigger_details_wip.otherProblems.str.lower().str.split().apply(results.update)\n",
    "print(results)"
   ]
  },
  {
   "cell_type": "code",
   "execution_count": null,
   "metadata": {},
   "outputs": [],
   "source": [
    "## function created for colums to add\n",
    "def str_check(mylist):\n",
    "    #add or operator between list items\n",
    "    pattern = '|'.join(mylist)\n",
    "    x = jigger_details_wip['otherProblems'].str.contains(pattern).astype(int) \n",
    "    return x\n",
    "\n",
    "jigger_details_wip['arthritis'] = str_check(['arthritis', 'arithtitis',  'osteo', 'rheu'])\n",
    "jigger_details_wip['visually_impaired'] = str_check(['blind', 'visu',  'sight'])\n",
    "jigger_details_wip['thyroid_issues'] = str_check(['thyr'])\n",
    "jigger_details_wip['hearing_issues'] = str_check(['deaf', 'hear'])\n",
    "\n",
    "jigger_details_wip['asthma_2'] = str_check(['asthma'])\n",
    "jigger_details_wip['disabled_2'] = str_check(['disability'])\n",
    "jigger_details_wip['copd_2'] = str_check(['copd'])\n",
    "jigger_details_wip['mental_health_2'] = str_check(['depress', 'stress', 'anxiety'])\n",
    "jigger_details_wip['balance_2'] = str_check(['balance', 'dizzi', 'vertigo'])\n",
    "jigger_details_wip['dementia_2'] = str_check(['dementia'])\n",
    "\n"
   ]
  },
  {
   "cell_type": "code",
   "execution_count": null,
   "metadata": {},
   "outputs": [],
   "source": [
    "# functoipn to pull two columns in to one\n",
    "def update_health(current, update):\n",
    "    return (jigger_details_wip[[current, update]] == 1).any(axis = 1).astype(int)\n",
    "    \n",
    "    \n",
    "jigger_details_wip['asthma'] = update_health('asthma', 'asthma_2')\n",
    "jigger_details_wip['disabled'] = update_health('disabled', 'disabled_2')\n",
    "jigger_details_wip['copd'] = update_health('copd', 'copd_2')\n",
    "jigger_details_wip['mental_health'] = update_health('mental_health', 'mental_health_2')\n",
    "jigger_details_wip['looseBalanceConsciousness'] = update_health('looseBalanceConsciousness', 'balance_2')\n",
    "jigger_details_wip['dementia'] = update_health('dementia', 'dementia_2')\n",
    "\n"
   ]
  },
  {
   "cell_type": "code",
   "execution_count": null,
   "metadata": {},
   "outputs": [],
   "source": [
    "# Check logic worked\n",
    "# jigger_details_wip[['asthma', 'asthma_2']].tail(50)"
   ]
  },
  {
   "cell_type": "code",
   "execution_count": null,
   "metadata": {},
   "outputs": [],
   "source": [
    "#drop the update cells\n",
    "jigger_details_wip = jigger_details_wip.drop(['asthma_2', 'disabled_2', 'copd_2', 'mental_health_2', 'balance_2', 'dementia_2'], axis=1)"
   ]
  },
  {
   "cell_type": "code",
   "execution_count": null,
   "metadata": {},
   "outputs": [],
   "source": [
    "# checking asthma total as it should be\n",
    "jigger_details_wip.asthma.sum()"
   ]
  },
  {
   "cell_type": "markdown",
   "metadata": {},
   "source": [
    "##### 8) Add other Health Problems as binary\n",
    "now that I've extracted and amalgamated data from it"
   ]
  },
  {
   "cell_type": "code",
   "execution_count": null,
   "metadata": {},
   "outputs": [],
   "source": [
    "# convert nans to 0\n",
    "jigger_details_wip['other_health_problems'] = np.where(jigger_details_wip['otherProblems'].str.contains(\"nan\"), 0, 1)"
   ]
  },
  {
   "cell_type": "code",
   "execution_count": null,
   "metadata": {},
   "outputs": [],
   "source": [
    "# drop otherProblems as data value has been extracted\n",
    "jigger_details_wip = jigger_details_wip.drop(['otherProblems'], axis=1)"
   ]
  },
  {
   "cell_type": "markdown",
   "metadata": {},
   "source": [
    "#### 9) Pivot wide to long - jigger health issues combined / pivotted"
   ]
  },
  {
   "cell_type": "code",
   "execution_count": null,
   "metadata": {},
   "outputs": [],
   "source": [
    "jigger_details_piv1 = pd.melt(jigger_details_wip,id_vars=['id', 'year', 'scheme', 'localAuthority', 'is_current_user', 'simd_d','toLooseWeight', 'toMeetNewPeople', 'toFeelHealthier',\n",
    "       'toVolunteer', 'preferJigging', 'otherJoinReason', 'gpReferral',\n",
    "       'healthProfReferral', 'leafletReferral', 'FBReferral', 'posterReferral',\n",
    "       'familyFriendsReferral', 'newsPaperReferral', 'otherReferral', 'ageGroup', 'employmentStatus', 'sex', 'joinDate',\n",
    "       'last_jig_date', 'deceased', 'jigs_count', 'past_week_30_initial', 'past_week_30_final', 'currentlyRegularActive',\n",
    "       'currentlyRegularActiveFinal', 'followup_received_date', 'volunteer', 'pedometer', 'diff_jigs_count', 'friendly'],var_name='health_issues',value_name='health_value')"
   ]
  },
  {
   "cell_type": "code",
   "execution_count": null,
   "metadata": {},
   "outputs": [],
   "source": [
    "# have a look at one unique id as a check\n",
    "# jigger_details_piv1[jigger_details_piv1['id'] == 4]"
   ]
  },
  {
   "cell_type": "markdown",
   "metadata": {},
   "source": [
    "##### 10) Add Has Health Issues summary column"
   ]
  },
  {
   "cell_type": "code",
   "execution_count": null,
   "metadata": {},
   "outputs": [],
   "source": [
    "# selected columns, filter and rename before joining back in\n",
    "health_col = jigger_details_piv1.drop(jigger_details_piv1.columns.difference(['health_value', 'id']), 1)\n",
    "health_col = health_col[health_col['health_value'] == 1]\n",
    "health_col.rename(columns={'health_value':'has_health_problem'}, inplace = True)"
   ]
  },
  {
   "cell_type": "code",
   "execution_count": null,
   "metadata": {},
   "outputs": [],
   "source": [
    "jigger_details_wip = pd.merge(jigger_details_wip, health_col , how='left', on= 'id')\n",
    "jigger_details_wip['has_health_problem'] = jigger_details_wip['has_health_problem'].astype(str)\n",
    "jigger_details_wip['has_health_problem'] = np.where(jigger_details_wip['has_health_problem'].str.contains('0'), 'No', 'Yes')"
   ]
  },
  {
   "cell_type": "code",
   "execution_count": null,
   "metadata": {},
   "outputs": [],
   "source": [
    "jigger_details_wip.drop_duplicates(inplace = True)"
   ]
  },
  {
   "cell_type": "code",
   "execution_count": null,
   "metadata": {},
   "outputs": [],
   "source": [
    "jigger_details_piv1 = pd.merge(jigger_details_piv1, health_col , how='left', on= 'id')\n",
    "jigger_details_piv1['has_health_problem'] = jigger_details_piv1['has_health_problem'].astype(str)\n",
    "jigger_details_piv1['has_health_problem'] = np.where(jigger_details_piv1['has_health_problem'].str.contains('0'), 'No', 'Yes')\n",
    "jigger_details_piv1.drop_duplicates(inplace = True)"
   ]
  },
  {
   "cell_type": "markdown",
   "metadata": {},
   "source": [
    "##### 11) Pivot wide to long - Reason for signing up combined"
   ]
  },
  {
   "cell_type": "code",
   "execution_count": null,
   "metadata": {},
   "outputs": [],
   "source": [
    "# Step 1 - pull out other referrals for possible reporting\n",
    "jigger_details_wip.otherReferral= jigger_details_wip['otherReferral'].astype(str)\n",
    "results = Counter()\n",
    "jigger_details_wip.otherReferral.str.lower().str.split().apply(results.update)\n",
    "print(results)"
   ]
  },
  {
   "cell_type": "code",
   "execution_count": null,
   "metadata": {},
   "outputs": [],
   "source": [
    "jigger_details_wip.columns"
   ]
  },
  {
   "cell_type": "markdown",
   "metadata": {},
   "source": [
    "#### Referrals extracted for use later"
   ]
  },
  {
   "cell_type": "code",
   "execution_count": null,
   "metadata": {},
   "outputs": [],
   "source": [
    "referrals = jigger_details_wip.drop(['heartCondition',\n",
    "       'chestPainActive', 'chestPainOther', 'looseBalanceConsciousness',\n",
    "       'boneJointProblem', 'diabetes', 'asthma', 'bloodPressure','disabled', 'overweight', 'ageGroup', 'employmentStatus', 'sex', 'followup_received_date', 'copd', 'volunteer', 'cancer', 'dementia',\n",
    "       'pedometer', 'deceased', 'jigs_count', 'last_jig_date',\n",
    "       'diff_jigs_count', 'localAuthority', 'friendly', 'mental_health',\n",
    "       'arthritis', 'visually_impaired', 'thyroid_issues', 'hearing_issues',\n",
    "       'other_health_problems', 'toLooseWeight', 'toMeetNewPeople', 'toFeelHealthier', 'toVolunteer',\n",
    "       'preferJigging', 'otherJoinReason'], axis = 1)"
   ]
  },
  {
   "cell_type": "code",
   "execution_count": null,
   "metadata": {},
   "outputs": [],
   "source": [
    "referrals['otherReferral'] = np.where(referrals['otherReferral'].str.contains(\"nan\"), 0, 1)"
   ]
  },
  {
   "cell_type": "code",
   "execution_count": null,
   "metadata": {},
   "outputs": [],
   "source": [
    "referrals['otherReferral'].unique()"
   ]
  },
  {
   "cell_type": "code",
   "execution_count": null,
   "metadata": {},
   "outputs": [],
   "source": [
    "referrals = pd.melt(referrals,id_vars=['id', 'scheme', 'is_current_user', 'simd_d',\n",
    "       'joinDate', 'past_week_30_initial', 'past_week_30_final',\n",
    "       'currentlyRegularActive', 'currentlyRegularActiveFinal', 'year',\n",
    "       'has_health_problem'],var_name='referral_route',value_name='referral_value')"
   ]
  },
  {
   "cell_type": "code",
   "execution_count": null,
   "metadata": {},
   "outputs": [],
   "source": [
    "referrals['referral_value'] = referrals['referral_value'].replace([-1],0)\n",
    "referrals.to_csv('codeclan/referrals.csv', index = False, header=True)"
   ]
  },
  {
   "cell_type": "code",
   "execution_count": null,
   "metadata": {},
   "outputs": [],
   "source": [
    "referrals.referral_value.unique()"
   ]
  },
  {
   "cell_type": "markdown",
   "metadata": {},
   "source": [
    "#### Joining Reasons extracted for use later"
   ]
  },
  {
   "cell_type": "code",
   "execution_count": null,
   "metadata": {},
   "outputs": [],
   "source": [
    "reasons = jigger_details_wip.drop(['heartCondition',\n",
    "       'chestPainActive', 'chestPainOther', 'looseBalanceConsciousness',\n",
    "       'boneJointProblem', 'diabetes', 'asthma', 'bloodPressure','disabled', 'overweight', 'ageGroup', 'employmentStatus', 'sex', 'followup_received_date', 'copd', 'volunteer', 'cancer', 'dementia',\n",
    "       'pedometer', 'deceased', 'jigs_count', 'last_jig_date',\n",
    "       'diff_jigs_count', 'localAuthority', 'friendly', 'mental_health',\n",
    "       'arthritis', 'visually_impaired', 'thyroid_issues', 'hearing_issues',\n",
    "       'other_health_problems', 'gpReferral', 'healthProfReferral',\n",
    "       'leafletReferral', 'FBReferral', 'posterReferral',\n",
    "       'familyFriendsReferral', 'newsPaperReferral', 'otherReferral'], axis=1)\n"
   ]
  },
  {
   "cell_type": "code",
   "execution_count": null,
   "metadata": {},
   "outputs": [],
   "source": [
    "reasons.columns"
   ]
  },
  {
   "cell_type": "code",
   "execution_count": null,
   "metadata": {},
   "outputs": [],
   "source": [
    "#there's too many joining reasons to pick at and little time so if other reason = 1, else 0\n",
    "reasons['otherJoinReason'] = np.where(reasons['otherJoinReason'].str.contains(\"nan\"), 0, 1)\n"
   ]
  },
  {
   "cell_type": "code",
   "execution_count": null,
   "metadata": {},
   "outputs": [],
   "source": [
    "reasons['otherJoinReason'].unique()"
   ]
  },
  {
   "cell_type": "code",
   "execution_count": null,
   "metadata": {},
   "outputs": [],
   "source": [
    "reasons = pd.melt(reasons,id_vars=['id', 'scheme', 'is_current_user', 'simd_d',\n",
    "       'joinDate', 'past_week_30_initial', 'past_week_30_final',\n",
    "       'currentlyRegularActive', 'currentlyRegularActiveFinal', 'year',\n",
    "       'has_health_problem'],var_name='joining_reasons',value_name='reason_value')\n"
   ]
  },
  {
   "cell_type": "code",
   "execution_count": null,
   "metadata": {},
   "outputs": [],
   "source": [
    "#replace -1s with 0s\n",
    "reasons['reason_value'] = reasons['reason_value'].replace([-1],0)\n",
    "reasons.to_csv('codeclan/joining_reasons.csv', index = False, header=True)"
   ]
  },
  {
   "cell_type": "markdown",
   "metadata": {},
   "source": [
    "##### 12) Extract feedback"
   ]
  },
  {
   "cell_type": "code",
   "execution_count": null,
   "metadata": {},
   "outputs": [],
   "source": [
    "# anychanges and follow_notes both own dataframes - reduced to two cols with same headings for appending\n",
    "any_changes = jigger_follow_ups.drop(jigger_follow_ups.columns.difference(['anychanges']), 1)\n",
    "any_changes.rename(columns = {\"anychanges\" : \"feedback\"}, inplace = True)\n",
    "f_notes = jigger_follow_ups.drop(jigger_follow_ups.columns.difference(['follow_notes']), 1)\n",
    "f_notes.rename(columns = {\"follow_notes\" : \"feedback\"}, inplace = True)"
   ]
  },
  {
   "cell_type": "code",
   "execution_count": null,
   "metadata": {},
   "outputs": [],
   "source": [
    "# combine feedback data \n",
    "feedback = any_changes.append(f_notes).dropna()\n",
    "feedback.head()"
   ]
  },
  {
   "cell_type": "code",
   "execution_count": null,
   "metadata": {},
   "outputs": [],
   "source": [
    "# can now start process of extracting most common words\n",
    "feedback_words = Counter()\n",
    "feedback.feedback.str.lower().str.split().apply(feedback_words.update)\n",
    "print(feedback_words)"
   ]
  },
  {
   "cell_type": "code",
   "execution_count": null,
   "metadata": {},
   "outputs": [],
   "source": [
    "# using nltk and spacy packages to remove stopwords\n",
    "import nltk\n",
    "nltk.download('punkt') "
   ]
  },
  {
   "cell_type": "code",
   "execution_count": null,
   "metadata": {},
   "outputs": [],
   "source": [
    "from nltk.tokenize import word_tokenize as word_tokenize"
   ]
  },
  {
   "cell_type": "code",
   "execution_count": null,
   "metadata": {},
   "outputs": [],
   "source": [
    "import spacy"
   ]
  },
  {
   "cell_type": "code",
   "execution_count": null,
   "metadata": {},
   "outputs": [],
   "source": [
    "\n",
    "sp = spacy.load('en_core_web_sm')\n",
    "\n",
    "all_stopwords = sp.Defaults.stop_words"
   ]
  },
  {
   "cell_type": "code",
   "execution_count": null,
   "metadata": {},
   "outputs": [],
   "source": [
    "pip install wordcloud"
   ]
  },
  {
   "cell_type": "code",
   "execution_count": null,
   "metadata": {},
   "outputs": [],
   "source": [
    "from wordcloud import WordCloud\n",
    "from matplotlib import pyplot as plt"
   ]
  },
  {
   "cell_type": "code",
   "execution_count": null,
   "metadata": {},
   "outputs": [],
   "source": [
    "comment_words = '' \n",
    "stopwords = sp.Defaults.stop_words \n",
    "  \n",
    "# iterate through the csv file \n",
    "for val in feedback['feedback']: \n",
    "      \n",
    "    # typecaste each val to string \n",
    "    val = str(val) \n",
    "  \n",
    "    # split the value \n",
    "    tokens = val.split() \n",
    "      \n",
    "    # Converts each token into lowercase \n",
    "    for i in range(len(tokens)): \n",
    "        tokens[i] = tokens[i].lower() \n",
    "      \n",
    "    comment_words += \" \".join(tokens)+\" \"\n",
    "  \n",
    "wordcloud = WordCloud(width = 800, height = 800, \n",
    "                background_color ='white', \n",
    "                stopwords = stopwords, \n",
    "                min_font_size = 10).generate(comment_words) \n",
    "  \n",
    "# plot the WordCloud image                        \n",
    "plt.figure(figsize = (8, 8), facecolor = None) \n",
    "plt.imshow(wordcloud) \n",
    "plt.axis(\"off\") \n",
    "plt.tight_layout(pad = 0) \n",
    "plt.savefig('images/feedback.png', dpi=300, bbox_inches='tight')\n",
    "plt.show() \n",
    "\n",
    "\n"
   ]
  },
  {
   "cell_type": "code",
   "execution_count": null,
   "metadata": {},
   "outputs": [],
   "source": [
    "# extracted the most commonly used words from the feedback - psychological benefits as well as physical"
   ]
  },
  {
   "cell_type": "markdown",
   "metadata": {},
   "source": [
    "##### 13) Join and Pivot Data for follow ups\n",
    "remove columns that I wont be analysing against follow up"
   ]
  },
  {
   "cell_type": "code",
   "execution_count": null,
   "metadata": {},
   "outputs": [],
   "source": [
    "jigger_follow_ups.columns"
   ]
  },
  {
   "cell_type": "code",
   "execution_count": null,
   "metadata": {},
   "outputs": [],
   "source": [
    "# remove these now feedback extracted\n",
    "jigger_follow_ups_wip = jigger_follow_ups.drop(['id','anychanges', 'follow_notes', 'scheme_id'], axis=1)"
   ]
  },
  {
   "cell_type": "code",
   "execution_count": null,
   "metadata": {},
   "outputs": [],
   "source": [
    "# other activities engaged in\n",
    "jigger_follow_ups_wip.other= jigger_follow_ups_wip['other'].astype(str)\n",
    "results = Counter()\n",
    "jigger_follow_ups_wip.other.str.lower().str.split().apply(results.update)\n",
    "print(results)"
   ]
  },
  {
   "cell_type": "code",
   "execution_count": null,
   "metadata": {},
   "outputs": [],
   "source": [
    "\n"
   ]
  },
  {
   "cell_type": "code",
   "execution_count": null,
   "metadata": {},
   "outputs": [],
   "source": [
    "jigger_details_wip.rename(columns = {\"id\" : \"userID\"}, inplace = True)"
   ]
  },
  {
   "cell_type": "code",
   "execution_count": null,
   "metadata": {},
   "outputs": [],
   "source": [
    "jigger_details_clean = jigger_details_wip.drop(jigger_details_wip.columns.difference(['userID', 'scheme', 'is_current_jigger', 'simd_d',  'ageGroup', 'employmentStatus', 'sex',\n",
    "       'joinDate', 'past_week_30_initial', 'past_week_30_final',\n",
    "       'currentlyRegularActive', 'currentlyRegularActiveFinal',\n",
    "       'followup_received_date', 'localAuthority', 'year', 'has_health_problem']), 1,)\n"
   ]
  },
  {
   "cell_type": "code",
   "execution_count": null,
   "metadata": {},
   "outputs": [],
   "source": [
    "jigger_follow_ups_wip.shape"
   ]
  },
  {
   "cell_type": "code",
   "execution_count": null,
   "metadata": {},
   "outputs": [],
   "source": [
    "jigger_details_b4aft = pd.merge(jigger_follow_ups_wip , jigger_details_wip, how='left', on= 'userID')"
   ]
  },
  {
   "cell_type": "markdown",
   "metadata": {},
   "source": [
    "-------------_______________-______-----------------"
   ]
  },
  {
   "cell_type": "code",
   "execution_count": null,
   "metadata": {},
   "outputs": [],
   "source": [
    "jigger_details_b4aft.shape"
   ]
  },
  {
   "cell_type": "code",
   "execution_count": null,
   "metadata": {},
   "outputs": [],
   "source": [
    "jigger_details_b4aft.columns"
   ]
  },
  {
   "cell_type": "code",
   "execution_count": null,
   "metadata": {},
   "outputs": [],
   "source": [
    "jigger_details_wip.shape"
   ]
  },
  {
   "cell_type": "code",
   "execution_count": null,
   "metadata": {},
   "outputs": [],
   "source": [
    "#pivot for new activities taken up\n",
    "jigger_details_b4aft_piv1 = pd.melt(jigger_details_b4aft,id_vars=['userID',  'year', 'scheme', 'localAuthority', 'has_health_problem',\n",
    "       'is_current_user', 'simd_d',\n",
    "       'ageGroup', 'employmentStatus', 'sex', 'joinDate', 'last_jig_date',\n",
    "       'past_week_30_initial', 'past_week_30_final',\n",
    "        'currentlyRegularActive', 'currentlyRegularActiveFinal', 'volunteer', 'pedometer', 'jigs_count',\n",
    "       'diff_jigs_count', 'deceased',\n",
    "       'friendly', 'date',\n",
    "       'nowshortjourneys', 'bustrain'],var_name='new_activity',value_name='activity_value')"
   ]
  },
  {
   "cell_type": "code",
   "execution_count": null,
   "metadata": {},
   "outputs": [],
   "source": [
    "jigger_details_b4aft_piv1.shape"
   ]
  },
  {
   "cell_type": "code",
   "execution_count": null,
   "metadata": {},
   "outputs": [],
   "source": [
    "# pivot - are they more likely to take public transport\n",
    "jigger_details_b4aft_piv2 = pd.melt(jigger_details_b4aft_piv1,id_vars=['userID',  'year', 'scheme', 'localAuthority', 'has_health_problem',\n",
    "       'is_current_user', 'simd_d',\n",
    "       'ageGroup', 'employmentStatus', 'sex', 'joinDate', 'last_jig_date',\n",
    "       'past_week_30_initial', 'past_week_30_final',\n",
    "       'currentlyRegularActive', 'currentlyRegularActiveFinal', 'volunteer', 'pedometer', 'jigs_count',\n",
    "       'diff_jigs_count', 'deceased',\n",
    "       'friendly', 'date', 'new_activity', 'activity_value'],var_name='travel',value_name='travel_value')"
   ]
  },
  {
   "cell_type": "code",
   "execution_count": null,
   "metadata": {},
   "outputs": [],
   "source": [
    "jigger_details_b4aft_piv1.head()"
   ]
  },
  {
   "cell_type": "code",
   "execution_count": null,
   "metadata": {},
   "outputs": [],
   "source": [
    "jigger_details_b4aft.drop(jigger_details_b4aft.columns.difference(['userID',  'year', 'scheme', 'is_current_user', 'simd_d', 'ageGroup', 'employmentStatus', 'sex',\n",
    "       'joinDate', 'past_week_30_initial', 'past_week_30_final',\n",
    "       'currentlyRegularActive', 'currentlyRegularActiveFinal',\n",
    "       'followup_received_date', 'localAuthority', 'has_health_problem']), 1, inplace = True)"
   ]
  },
  {
   "cell_type": "code",
   "execution_count": null,
   "metadata": {},
   "outputs": [],
   "source": [
    "jigger_follow_ups_clean = jigger_details_b4aft[jigger_details_b4aft['year'] >= 2012]\n",
    "jigger_details_wip.shape\n",
    "#%store jigger_follow_ups_clean\n",
    "jigger_follow_ups_clean.to_csv('codeclan/jigger_follow_ups_clean.csv', index = False, header=True)\n",
    "#%store jigger_details_clean\n",
    "jigger_details_clean = jigger_details_clean[jigger_details_clean['year'] >= 2012]\n",
    "jigger_details_clean.to_csv('codeclan/jigger_details_clean.csv', index = False, header=True)"
   ]
  },
  {
   "cell_type": "code",
   "execution_count": null,
   "metadata": {},
   "outputs": [],
   "source": [
    "jigger_follow_ups_clean.shape"
   ]
  },
  {
   "cell_type": "code",
   "execution_count": null,
   "metadata": {},
   "outputs": [],
   "source": [
    "jigger_follow_ups_clean.columns"
   ]
  },
  {
   "cell_type": "code",
   "execution_count": null,
   "metadata": {},
   "outputs": [],
   "source": [
    "jigger_follow_ups_clean.year.head()"
   ]
  },
  {
   "cell_type": "code",
   "execution_count": null,
   "metadata": {},
   "outputs": [],
   "source": [
    "jigger_details_wip.employmentStatus.unique()"
   ]
  },
  {
   "cell_type": "code",
   "execution_count": null,
   "metadata": {},
   "outputs": [],
   "source": [
    "jigger_follow_ups_clean.simd_d.unique()"
   ]
  },
  {
   "cell_type": "code",
   "execution_count": null,
   "metadata": {},
   "outputs": [],
   "source": []
  },
  {
   "cell_type": "code",
   "execution_count": null,
   "metadata": {},
   "outputs": [],
   "source": []
  }
 ],
 "metadata": {
  "kernelspec": {
   "display_name": "Python 3",
   "language": "python",
   "name": "python3"
  },
  "language_info": {
   "codemirror_mode": {
    "name": "ipython",
    "version": 3
   },
   "file_extension": ".py",
   "mimetype": "text/x-python",
   "name": "python",
   "nbconvert_exporter": "python",
   "pygments_lexer": "ipython3",
   "version": "3.8.3"
  }
 },
 "nbformat": 4,
 "nbformat_minor": 4
}
