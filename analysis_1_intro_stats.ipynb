{
 "cells": [
  {
   "cell_type": "markdown",
   "metadata": {},
   "source": [
    "### Analysis"
   ]
  },
  {
   "cell_type": "code",
   "execution_count": null,
   "metadata": {},
   "outputs": [],
   "source": [
    "import pandas as pd\n",
    "import numpy as np"
   ]
  },
  {
   "cell_type": "code",
   "execution_count": null,
   "metadata": {},
   "outputs": [],
   "source": [
    "jigger_follow_ups_clean = pd.read_csv(\"codeclan/jigger_follow_ups_clean.csv\")\n",
    "jigger_details_clean = pd.read_csv(\"codeclan/jigger_details_clean.csv\")\n",
    "simd = pd.read_csv(\"codeclan/simd.csv\")\n",
    "%matplotlib inline\n",
    "from matplotlib import pyplot as plt\n"
   ]
  },
  {
   "cell_type": "code",
   "execution_count": null,
   "metadata": {},
   "outputs": [],
   "source": [
    "import datetime\n",
    "jigger_details_clean['year'] = pd.to_datetime(jigger_details_clean.joinDate, errors =\"coerce\" )\n",
    "jigger_details_clean['year'] = jigger_details_clean['year'].dt.year.astype('Int64')"
   ]
  },
  {
   "cell_type": "code",
   "execution_count": null,
   "metadata": {},
   "outputs": [],
   "source": [
    "jigger_details_clean.columns"
   ]
  },
  {
   "cell_type": "markdown",
   "metadata": {},
   "source": [
    "##### General Intro Stats"
   ]
  },
  {
   "cell_type": "markdown",
   "metadata": {},
   "source": [
    "from SIMD"
   ]
  },
  {
   "cell_type": "code",
   "execution_count": null,
   "metadata": {},
   "outputs": [],
   "source": [
    "simd.columns"
   ]
  },
  {
   "cell_type": "code",
   "execution_count": null,
   "metadata": {},
   "outputs": [],
   "source": [
    "#Scottish Population\n",
    "popn = simd.Population.sum()\n",
    "popn"
   ]
  },
  {
   "cell_type": "markdown",
   "metadata": {},
   "source": [
    "2017 National Records 51% female, 49% male"
   ]
  },
  {
   "cell_type": "code",
   "execution_count": null,
   "metadata": {},
   "outputs": [],
   "source": [
    "# Working Age Population\n",
    "wa_popn = simd.Working_Age_Population.sum()\n",
    "wa_popn"
   ]
  },
  {
   "cell_type": "code",
   "execution_count": null,
   "metadata": {},
   "outputs": [],
   "source": [
    "# Percentage of Working Age (Population)\n",
    "round(wa_popn/popn * 100)"
   ]
  },
  {
   "cell_type": "markdown",
   "metadata": {},
   "source": [
    "###### April 2020 just start of coronavirus epidemic 97,000 unemployed, 4.6% "
   ]
  },
  {
   "cell_type": "markdown",
   "metadata": {},
   "source": [
    "Although 73% of adults descrive their health as good or very good ( 2017 Scottish Health Survey)45% have. along term condition, 43% men and 47% women"
   ]
  },
  {
   "cell_type": "markdown",
   "metadata": {},
   "source": [
    "National Records of Scotland 2018\n",
    "19% 65 +=\n",
    "64% 16 - 64\n",
    "18% -= 15 \n",
    "by 2023 its projected that 20% 65 or over, 2033 24%"
   ]
  },
  {
   "cell_type": "markdown",
   "metadata": {},
   "source": [
    "### And our jiggers"
   ]
  },
  {
   "cell_type": "code",
   "execution_count": null,
   "metadata": {},
   "outputs": [],
   "source": [
    "jigger_details_clean.columns"
   ]
  },
  {
   "cell_type": "code",
   "execution_count": null,
   "metadata": {},
   "outputs": [],
   "source": [
    "# remove wrong formatted dates \n",
    "jigger_details_clean_date = jigger_details_clean[jigger_details_clean['year'] >= 2002 ]"
   ]
  },
  {
   "cell_type": "code",
   "execution_count": null,
   "metadata": {},
   "outputs": [],
   "source": [
    "# jigger since started in 2002 (wrong dates removed)\n",
    "jigger_details_clean_date.userID.nunique()"
   ]
  },
  {
   "cell_type": "code",
   "execution_count": null,
   "metadata": {},
   "outputs": [],
   "source": [
    "# jigger since started in 2002 \n",
    "jigger_details_clean.userID.nunique()"
   ]
  },
  {
   "cell_type": "code",
   "execution_count": null,
   "metadata": {},
   "outputs": [],
   "source": [
    "jigger_details_clean.userID.unique()"
   ]
  },
  {
   "cell_type": "code",
   "execution_count": null,
   "metadata": {},
   "outputs": [],
   "source": [
    "gender = jigger_details_clean[jigger_details_clean['sex'] != 'o']\n",
    "gender_total = gender.userID.nunique()\n"
   ]
  },
  {
   "cell_type": "code",
   "execution_count": null,
   "metadata": {},
   "outputs": [],
   "source": [
    "gender_percent = gender.groupby('sex')['userID'].nunique().reset_index()\n",
    "gender_percent"
   ]
  },
  {
   "cell_type": "code",
   "execution_count": null,
   "metadata": {},
   "outputs": [],
   "source": [
    "\n",
    "gender_percent['Percentage'] = 100 * gender_percent['userID']  / gender_percent['userID'].sum()\n",
    "gender_percent.round(0)\n"
   ]
  },
  {
   "cell_type": "markdown",
   "metadata": {},
   "source": [
    "and time graph showing this"
   ]
  },
  {
   "cell_type": "code",
   "execution_count": null,
   "metadata": {},
   "outputs": [],
   "source": [
    "jigger_details_clean = jigger_details_clean[jigger_details_clean['year'] >= 2002]"
   ]
  },
  {
   "cell_type": "code",
   "execution_count": null,
   "metadata": {},
   "outputs": [],
   "source": [
    "gender_time = jigger_details_clean.groupby(['sex', 'year'])['userID'].nunique()"
   ]
  },
  {
   "cell_type": "code",
   "execution_count": null,
   "metadata": {},
   "outputs": [],
   "source": [
    "gender_time = gender_time.reset_index()\n",
    "gender_time = gender_time[gender_time['sex'] != 'o']\n",
    "gender_time['year'] = gender_time.year.astype(str)"
   ]
  },
  {
   "cell_type": "code",
   "execution_count": null,
   "metadata": {},
   "outputs": [],
   "source": [
    "import seaborn as sns"
   ]
  },
  {
   "cell_type": "code",
   "execution_count": null,
   "metadata": {},
   "outputs": [],
   "source": [
    "gender_graph = sns.lineplot(data = gender_time, x='year', y='userID', hue='sex')\n",
    "plt.ylabel('Count')\n",
    "plt.xlabel('Year')\n",
    "plt.title('Gender of Jiggers Over Time', size = 14, fontweight=\"bold\")\n",
    "start, end = gender_graph.get_xlim()\n",
    "gender_graph.xaxis.set_ticks(np.arange(start, end, 2))\n",
    "plt.savefig('images/gender_time.png', dpi=300, bbox_inches='tight')\n",
    "gender_graph"
   ]
  },
  {
   "cell_type": "markdown",
   "metadata": {},
   "source": [
    "#### Now look at age groups"
   ]
  },
  {
   "cell_type": "code",
   "execution_count": null,
   "metadata": {},
   "outputs": [],
   "source": [
    "age_group_clean = jigger_details_clean[jigger_details_clean['ageGroup'] != '-1']"
   ]
  },
  {
   "cell_type": "code",
   "execution_count": null,
   "metadata": {},
   "outputs": [],
   "source": [
    "age_group_clean.ageGroup.unique()"
   ]
  },
  {
   "cell_type": "code",
   "execution_count": null,
   "metadata": {},
   "outputs": [],
   "source": [
    "age_group = age_group_clean.groupby('ageGroup')['userID'].nunique()"
   ]
  },
  {
   "cell_type": "code",
   "execution_count": null,
   "metadata": {},
   "outputs": [],
   "source": [
    "age_percent = age_group_clean.groupby(['ageGroup', 'has_health_problem'])['userID'].nunique().reset_index()"
   ]
  },
  {
   "cell_type": "code",
   "execution_count": null,
   "metadata": {},
   "outputs": [],
   "source": [
    "age_percent['Percentage'] = 100 * age_percent['userID']  / age_percent['userID'].sum().astype(int).round(0)"
   ]
  },
  {
   "cell_type": "markdown",
   "metadata": {},
   "source": [
    "##### Summarise 41% of our jiggers 65 or over\n",
    "64% 55 or over"
   ]
  },
  {
   "cell_type": "code",
   "execution_count": null,
   "metadata": {},
   "outputs": [],
   "source": [
    "sns.set_theme(style='whitegrid')\n",
    "age_plot = sns.barplot(x='ageGroup', y='Percentage', hue ='has_health_problem', data=age_percent)\n",
    "plt.ylabel('Percentage')\n",
    "plt.xlabel('Age Group')\n",
    "plt.title('Age Range of Our Jiggers since 2012', size = 14, fontweight=\"bold\")\n",
    "plt.legend(title='Has Health Problems?')\n",
    "plt.savefig('images/age_range.png', dpi=300, bbox_inches='tight')\n",
    "plt.show(age_plot)"
   ]
  },
  {
   "cell_type": "code",
   "execution_count": null,
   "metadata": {},
   "outputs": [],
   "source": [
    "#How many of our jiggers had health problems? \n",
    "age_percent_summary = age_group_clean.groupby(['has_health_problem'])['userID'].nunique().reset_index()\n",
    "age_percent_summary\n",
    "# userID shows a count of the number of unique"
   ]
  },
  {
   "cell_type": "code",
   "execution_count": null,
   "metadata": {},
   "outputs": [],
   "source": [
    "age_percent_summary['Percentage'] = 100 * age_percent_summary['userID']  / age_percent_summary['userID'].sum().astype(int)\n",
    "age_percent_summary.round(0)\n",
    "# 57% of our jiggers have a health problem as opposed to 45% general popn"
   ]
  },
  {
   "cell_type": "markdown",
   "metadata": {},
   "source": [
    "##### Summarise 41% of our jiggers 65 or over\n",
    "64% 55 or over"
   ]
  },
  {
   "cell_type": "markdown",
   "metadata": {},
   "source": [
    "##### Having a look at employment of our jiggers\n",
    "I since changed forcus to data post 2012 ( data not recorded for employment so below ended up redundant)"
   ]
  },
  {
   "cell_type": "code",
   "execution_count": null,
   "metadata": {},
   "outputs": [],
   "source": [
    "jigger_details_clean.employmentStatus.unique()"
   ]
  },
  {
   "cell_type": "code",
   "execution_count": null,
   "metadata": {},
   "outputs": [],
   "source": [
    "jigger_details_clean['employmentStatus'] = jigger_details_clean['employmentStatus'].astype(str)"
   ]
  },
  {
   "cell_type": "code",
   "execution_count": null,
   "metadata": {},
   "outputs": [],
   "source": [
    "jigger_details_clean['employmentStatus'].unique"
   ]
  },
  {
   "cell_type": "code",
   "execution_count": null,
   "metadata": {},
   "outputs": [],
   "source": [
    "employment_status_clean = jigger_details_clean[jigger_details_clean['employmentStatus'] != '-1']"
   ]
  },
  {
   "cell_type": "code",
   "execution_count": null,
   "metadata": {},
   "outputs": [],
   "source": [
    "employment_status_clean.employmentStatus.unique()"
   ]
  },
  {
   "cell_type": "code",
   "execution_count": null,
   "metadata": {},
   "outputs": [],
   "source": [
    "employment_percent = employment_status_clean.groupby('employmentStatus')['userID'].nunique().reset_index()"
   ]
  },
  {
   "cell_type": "code",
   "execution_count": null,
   "metadata": {},
   "outputs": [],
   "source": [
    "employment_percent['Percentage'] = 100 * employment_percent['userID']  / employment_percent['userID'].sum().astype(int)\n",
    "employment_percent.round(0)"
   ]
  },
  {
   "cell_type": "code",
   "execution_count": null,
   "metadata": {},
   "outputs": [],
   "source": [
    "sns.set_theme(style='whitegrid')\n",
    "age_plot = sns.barplot(x='employmentStatus', y='Percentage', data=employment_percent)\n",
    "plt.ylabel('Percentage')\n",
    "plt.xlabel('Employment Status')\n",
    "plt.title('Employment Status of our jiggers', size = 14, fontweight=\"bold\")\n",
    "plt.savefig('images/employment_status.png', dpi=300, bbox_inches='tight')\n",
    "plt.show(age_plot)"
   ]
  },
  {
   "cell_type": "markdown",
   "metadata": {},
   "source": [
    "   ##### SIMD breakdown"
   ]
  },
  {
   "cell_type": "code",
   "execution_count": null,
   "metadata": {},
   "outputs": [],
   "source": [
    "jigger_details_clean['simd_d'] = jigger_details_clean['simd_d'].astype(int)"
   ]
  },
  {
   "cell_type": "code",
   "execution_count": null,
   "metadata": {},
   "outputs": [],
   "source": [
    "simd_bd = jigger_details_clean[jigger_details_clean['simd_d'] != 0]"
   ]
  },
  {
   "cell_type": "code",
   "execution_count": null,
   "metadata": {},
   "outputs": [],
   "source": [
    "jigger_details_clean.simd_d.dtype"
   ]
  },
  {
   "cell_type": "code",
   "execution_count": null,
   "metadata": {},
   "outputs": [],
   "source": [
    "simd_bd.shape"
   ]
  },
  {
   "cell_type": "code",
   "execution_count": null,
   "metadata": {},
   "outputs": [],
   "source": [
    "simd_percent = simd_bd.groupby('simd_d')['userID'].nunique().reset_index()"
   ]
  },
  {
   "cell_type": "code",
   "execution_count": null,
   "metadata": {},
   "outputs": [],
   "source": [
    "simd_percent['Percentage'] = 100 * simd_percent['userID']  / simd_percent['userID'].sum().astype(int)\n",
    "simd_percent.round(0)"
   ]
  },
  {
   "cell_type": "code",
   "execution_count": null,
   "metadata": {},
   "outputs": [],
   "source": [
    "sns.set_theme(style='whitegrid')\n",
    "age_plot = sns.barplot(x='simd_d', y='Percentage', data=simd_percent)\n",
    "plt.ylabel('Percentage')\n",
    "plt.xlabel('SIMD Decile')\n",
    "plt.title('SIMD Decile Rank of our jiggers since 2012', size = 14, fontweight=\"bold\")\n",
    "plt.savefig('images/simd_split.png', dpi=300, bbox_inches='tight')\n",
    "plt.show(age_plot)"
   ]
  },
  {
   "cell_type": "code",
   "execution_count": null,
   "metadata": {},
   "outputs": [],
   "source": [
    "# 13% are in SIMDs 1-3"
   ]
  },
  {
   "cell_type": "code",
   "execution_count": null,
   "metadata": {},
   "outputs": [],
   "source": [
    "simd_bd_post_2017 = simd_bd[simd_bd['joinDate'] >= '2017-01-01' ]\n",
    "simd_bd_post_2017.columns"
   ]
  },
  {
   "cell_type": "code",
   "execution_count": null,
   "metadata": {},
   "outputs": [],
   "source": [
    "simd_bd_post_2017.shape"
   ]
  },
  {
   "cell_type": "code",
   "execution_count": null,
   "metadata": {},
   "outputs": [],
   "source": [
    "simd_bd_post_2017 = simd_bd_post_2017.groupby('simd_d')['userID'].nunique().reset_index()\n",
    "simd_bd_post_2017['Percentage'] = 100 * simd_bd_post_2017['userID']  / simd_bd_post_2017['userID'].sum().astype(int)\n",
    "simd_bd_post_2017.round(0)"
   ]
  },
  {
   "cell_type": "code",
   "execution_count": null,
   "metadata": {},
   "outputs": [],
   "source": [
    "sns.set_theme(style='whitegrid')\n",
    "age_plot = sns.barplot(x='simd_d', y='Percentage', data=simd_bd_post_2017)\n",
    "plt.ylabel('Percentage')\n",
    "plt.xlabel('SIMD Decile')\n",
    "plt.title('SIMD Decile Rank of our jiggers since 2017', size = 14, fontweight=\"bold\")\n",
    "plt.savefig('images/simd_split_2017onw.png', dpi=300, bbox_inches='tight')\n",
    "plt.show(age_plot)"
   ]
  },
  {
   "cell_type": "code",
   "execution_count": null,
   "metadata": {},
   "outputs": [],
   "source": [
    "simd_bd.shape"
   ]
  },
  {
   "cell_type": "code",
   "execution_count": null,
   "metadata": {},
   "outputs": [],
   "source": [
    "simd_time = simd_bd"
   ]
  },
  {
   "cell_type": "code",
   "execution_count": null,
   "metadata": {},
   "outputs": [],
   "source": [
    "simd_year = simd_time.groupby('year')['userID'].nunique().reset_index()\n",
    "simd_year.rename(columns = {\"userID\" : \"total_year\"}, inplace = True)\n",
    "simd_year"
   ]
  },
  {
   "cell_type": "code",
   "execution_count": null,
   "metadata": {},
   "outputs": [],
   "source": [
    "\n",
    "simd_time = simd_time.groupby(['year', 'simd_d'])['userID'].nunique().reset_index()\n"
   ]
  },
  {
   "cell_type": "code",
   "execution_count": null,
   "metadata": {},
   "outputs": [],
   "source": [
    "simd_time"
   ]
  },
  {
   "cell_type": "code",
   "execution_count": null,
   "metadata": {},
   "outputs": [],
   "source": [
    "simd_time['simd_123'] = np.where(simd_time['simd_d'] <= 3, 1, 0)\n",
    "simd_time.rename(columns = {\"userID\" : \"count\"}, inplace = True)"
   ]
  },
  {
   "cell_type": "code",
   "execution_count": null,
   "metadata": {},
   "outputs": [],
   "source": [
    "simd_time = simd_time.drop('simd_d', axis=1)"
   ]
  },
  {
   "cell_type": "code",
   "execution_count": null,
   "metadata": {},
   "outputs": [],
   "source": [
    "simd_time = simd_time[simd_time['simd_123'] == 1]"
   ]
  },
  {
   "cell_type": "code",
   "execution_count": null,
   "metadata": {},
   "outputs": [],
   "source": [
    "simd_time =  simd_time.groupby('year')['count'].sum().reset_index()"
   ]
  },
  {
   "cell_type": "code",
   "execution_count": null,
   "metadata": {},
   "outputs": [],
   "source": [
    "\n",
    "simd_time = pd.merge(simd_time, simd_year, how='left', on=['year'])"
   ]
  },
  {
   "cell_type": "code",
   "execution_count": null,
   "metadata": {},
   "outputs": [],
   "source": [
    "simd_time['proportion'] = ((simd_time['count'] / simd_time['total_year'])*100).round(0)"
   ]
  },
  {
   "cell_type": "code",
   "execution_count": null,
   "metadata": {},
   "outputs": [],
   "source": [
    "simd_time"
   ]
  },
  {
   "cell_type": "code",
   "execution_count": null,
   "metadata": {},
   "outputs": [],
   "source": [
    "simd_time_count = sns.lineplot(data = simd_time, x='year', y='count', color=\"r\")\n",
    "plt.ylabel('Count', color=\"red\")\n",
    "plt.xlabel('Year')\n",
    "plt.title('jiggers from SIMD Zones 1-3, Count and Proportion over time \\n', size = 14, fontweight=\"bold\")\n",
    "simd_time_count.xaxis.set_ticks(np.arange(1999, 2021, 2))\n",
    "ax2 = plt.twinx()\n",
    "sns.lineplot(data = simd_time, x='year', y='proportion', color=\"b\", ax=ax2)\n",
    "plt.ylabel('Proportion (%)', color=\"blue\")\n",
    "sns.set_style(\"whitegrid\", {'axes.grid' : False})\n",
    "plt.savefig('images/simd13_time.png', dpi=300, bbox_inches='tight')\n",
    "simd_time_count"
   ]
  },
  {
   "cell_type": "markdown",
   "metadata": {},
   "source": [
    "##### Local Authority Area our jiggers are in"
   ]
  },
  {
   "cell_type": "code",
   "execution_count": null,
   "metadata": {},
   "outputs": [],
   "source": [
    "jigger_details_clean['localAuthority'].dtype"
   ]
  },
  {
   "cell_type": "code",
   "execution_count": null,
   "metadata": {},
   "outputs": [],
   "source": [
    "la_percent = jigger_details_clean"
   ]
  },
  {
   "cell_type": "code",
   "execution_count": null,
   "metadata": {},
   "outputs": [],
   "source": [
    "la_percent.dropna(subset = ['localAuthority'], inplace = True)"
   ]
  },
  {
   "cell_type": "code",
   "execution_count": null,
   "metadata": {},
   "outputs": [],
   "source": [
    "la_percent.localAuthority.isna().sum()"
   ]
  },
  {
   "cell_type": "code",
   "execution_count": null,
   "metadata": {},
   "outputs": [],
   "source": [
    "la_percent = jigger_details_clean.groupby('localAuthority')['userID'].nunique().reset_index()"
   ]
  },
  {
   "cell_type": "code",
   "execution_count": null,
   "metadata": {},
   "outputs": [],
   "source": [
    "la_percent['Percentage'] = 100 * la_percent['userID']  / la_percent['userID'].sum().astype(int).round(0)\n"
   ]
  },
  {
   "cell_type": "code",
   "execution_count": null,
   "metadata": {},
   "outputs": [],
   "source": [
    "la_percent = la_percent[la_percent['Percentage'] > 4].sort_values(by=['Percentage'], ascending=False)"
   ]
  },
  {
   "cell_type": "code",
   "execution_count": null,
   "metadata": {},
   "outputs": [],
   "source": [
    "sns.set_theme(style='whitegrid')\n",
    "age_plot = sns.barplot(y='localAuthority', x='Percentage', data=la_percent, palette=['lightsteelblue', 'forestgreen', 'plum', 'bisque', 'salmon', 'gold', 'aquamarine' ,'teal'])\n",
    "plt.xlabel('Percentage of jiggers')\n",
    "plt.ylabel('Local Authority')\n",
    "plt.title(\"Our jigger's Local Authority Area since 2012 \\n \", size = 14, fontweight=\"bold\")\n",
    "plt.savefig('images/local_authority.png', dpi=300, bbox_inches='tight')\n",
    "plt.show(age_plot)\n",
    "# with over 5%"
   ]
  },
  {
   "cell_type": "code",
   "execution_count": null,
   "metadata": {},
   "outputs": [],
   "source": [
    "simd_time"
   ]
  },
  {
   "cell_type": "code",
   "execution_count": null,
   "metadata": {},
   "outputs": [],
   "source": []
  }
 ],
 "metadata": {
  "kernelspec": {
   "display_name": "Python 3",
   "language": "python",
   "name": "python3"
  },
  "language_info": {
   "codemirror_mode": {
    "name": "ipython",
    "version": 3
   },
   "file_extension": ".py",
   "mimetype": "text/x-python",
   "name": "python",
   "nbconvert_exporter": "python",
   "pygments_lexer": "ipython3",
   "version": "3.8.3"
  }
 },
 "nbformat": 4,
 "nbformat_minor": 4
}
