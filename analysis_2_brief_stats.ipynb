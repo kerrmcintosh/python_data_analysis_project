{
 "cells": [
  {
   "cell_type": "code",
   "execution_count": null,
   "metadata": {},
   "outputs": [],
   "source": [
    "import pandas as pd\n",
    "jigger_follow_ups_clean = pd.read_csv(\"codeclan/jigger_follow_ups_clean.csv\")\n",
    "jigger_details_clean = pd.read_csv(\"codeclan/jigger_details_clean.csv\")\n",
    "\n",
    "import numpy as np\n",
    "%matplotlib inline\n",
    "from matplotlib import pyplot as plt\n",
    "import seaborn as sns"
   ]
  },
  {
   "cell_type": "markdown",
   "metadata": {},
   "source": [
    "##### How successful are we in getting inactive jigger active"
   ]
  },
  {
   "cell_type": "code",
   "execution_count": null,
   "metadata": {},
   "outputs": [],
   "source": [
    "jigger_details_clean.columns"
   ]
  },
  {
   "cell_type": "code",
   "execution_count": null,
   "metadata": {},
   "outputs": [],
   "source": [
    "jigger_details_clean.shape"
   ]
  },
  {
   "cell_type": "code",
   "execution_count": null,
   "metadata": {},
   "outputs": [],
   "source": [
    "inac2active_success = jigger_follow_ups_clean[jigger_follow_ups_clean['currentlyRegularActive'] == 0]"
   ]
  },
  {
   "cell_type": "code",
   "execution_count": null,
   "metadata": {},
   "outputs": [],
   "source": [
    "inac2active_success.currentlyRegularActiveFinal.dropna(inplace = True)"
   ]
  },
  {
   "cell_type": "code",
   "execution_count": null,
   "metadata": {},
   "outputs": [],
   "source": [
    "# in our follow ups 1374 inactive before\n",
    "inac2active_success.shape"
   ]
  },
  {
   "cell_type": "code",
   "execution_count": null,
   "metadata": {},
   "outputs": [],
   "source": [
    "# warning heeded - function did what I wanted\n",
    "inac2active_success.currentlyRegularActiveFinal.isna().sum()"
   ]
  },
  {
   "cell_type": "code",
   "execution_count": null,
   "metadata": {},
   "outputs": [],
   "source": [
    "#oa overal.l success\n",
    "inac2active_oa_success = inac2active_success.groupby(['currentlyRegularActiveFinal'])['userID'].nunique().reset_index()\n",
    "inac2active_oa_success"
   ]
  },
  {
   "cell_type": "code",
   "execution_count": null,
   "metadata": {},
   "outputs": [],
   "source": [
    "#Of our jiggers we followed up who were initially active...\n",
    "inac2active_oa_success.userID.sum()"
   ]
  },
  {
   "cell_type": "code",
   "execution_count": null,
   "metadata": {},
   "outputs": [],
   "source": [
    "inac2active_oa_success.currentlyRegularActiveFinal.unique()"
   ]
  },
  {
   "cell_type": "code",
   "execution_count": null,
   "metadata": {},
   "outputs": [],
   "source": [
    "inac2active_oa_success['Percentage'] = 100 * inac2active_oa_success['userID']  / inac2active_oa_success['userID'].sum().astype(int)\n",
    "inac2active_oa_success.round(0)"
   ]
  },
  {
   "cell_type": "code",
   "execution_count": null,
   "metadata": {},
   "outputs": [],
   "source": [
    "# Pie chart, where the slices will be ordered and plotted counter-clockwise:\n",
    "labels = 'Still Active', 'No Longer Active'\n",
    "sizes = [77 , 23]\n",
    "colors = ['lightskyblue', 'salmon']\n",
    "fig1, ax1 = plt.subplots()\n",
    "ax1.pie(sizes, labels=labels, autopct='%1.1f%%',\n",
    "        shadow=True, startangle=90, colors=colors)\n",
    "ax1.axis('equal')  # Equal aspect ratio ensures that pie is drawn as a circle.\n",
    "plt.title('6 Month Follow Up on Initially Inactive Users \\n Since 2012', size = 14, fontweight=\"bold\")\n",
    "plt.savefig('images/pie.png', dpi=300, bbox_inches='tight')\n",
    "plt.show()\n",
    "# be this jigging or anpther activity"
   ]
  },
  {
   "cell_type": "markdown",
   "metadata": {},
   "source": [
    "##### And now to look at improvement in mean activity within last 30 days"
   ]
  },
  {
   "cell_type": "code",
   "execution_count": null,
   "metadata": {},
   "outputs": [],
   "source": [
    "inac2active_success.past_week_30_initial.unique()"
   ]
  },
  {
   "cell_type": "code",
   "execution_count": null,
   "metadata": {},
   "outputs": [],
   "source": [
    "# orginal mean activity of our initially inactives\n",
    "b4 = inac2active_success.past_week_30_initial.mean()\n",
    "b4"
   ]
  },
  {
   "cell_type": "code",
   "execution_count": null,
   "metadata": {},
   "outputs": [],
   "source": [
    "inac2active_success.past_week_30_final.unique()"
   ]
  },
  {
   "cell_type": "code",
   "execution_count": null,
   "metadata": {},
   "outputs": [],
   "source": [
    "# only 279 of ou 28,000 gave activity levels \n",
    "inactive_activity = inac2active_success[inac2active_success['past_week_30_final'] != -1]\n",
    "inactive_activity.shape"
   ]
  },
  {
   "cell_type": "code",
   "execution_count": null,
   "metadata": {},
   "outputs": [],
   "source": [
    "inactive_activity = inactive_activity[inactive_activity['past_week_30_initial'] != -1]\n",
    "inactive_activity.shape"
   ]
  },
  {
   "cell_type": "code",
   "execution_count": null,
   "metadata": {},
   "outputs": [],
   "source": [
    "# and following follow up\n",
    "now = inac2active_success[inac2active_success['past_week_30_final'] != -1].past_week_30_final.mean()"
   ]
  },
  {
   "cell_type": "code",
   "execution_count": null,
   "metadata": {},
   "outputs": [],
   "source": [
    "b4"
   ]
  },
  {
   "cell_type": "code",
   "execution_count": null,
   "metadata": {},
   "outputs": [],
   "source": [
    "now"
   ]
  },
  {
   "cell_type": "code",
   "execution_count": null,
   "metadata": {},
   "outputs": [],
   "source": [
    "# create a dataframe to make a graph"
   ]
  },
  {
   "cell_type": "code",
   "execution_count": null,
   "metadata": {},
   "outputs": [],
   "source": [
    "# inactive jiggers mean activity before and after\n",
    "activity_followup = pd.DataFrame({\n",
    "    'active': ['before', 'follow_up'],\n",
    "    'days_active_mean':[b4, now]},\n",
    "    index = [1,2]\n",
    "    )\n",
    "activity_followup"
   ]
  },
  {
   "cell_type": "code",
   "execution_count": null,
   "metadata": {},
   "outputs": [],
   "source": [
    "sns.set_theme(style='whitegrid')\n",
    "age_plot = sns.barplot(x='active', y='days_active_mean', data=activity_followup)\n",
    "plt.ylabel('Mean Days Active')\n",
    "plt.xlabel('Active Initially and on Follow Up')\n",
    "plt.title('Mean Days Active in past 30 days on Joining  \\n and After Follow Up for jiggers, originally inactive.  \\n Since 2012 ', size = 14, fontweight=\"bold\")\n",
    "plt.savefig('images/mean_inactive.png', dpi=300, bbox_inches='tight')\n",
    "plt.show(age_plot)"
   ]
  },
  {
   "cell_type": "code",
   "execution_count": null,
   "metadata": {},
   "outputs": [],
   "source": [
    "jigger_follow_ups_clean = jigger_follow_ups_clean[jigger_follow_ups_clean['currentlyRegularActiveFinal'] >= 0]\n",
    "jigger_follow_ups_clean = jigger_follow_ups_clean[jigger_follow_ups_clean['past_week_30_final'] >= 0]\n",
    "jigger_follow_ups_clean.shape"
   ]
  },
  {
   "cell_type": "code",
   "execution_count": null,
   "metadata": {},
   "outputs": [],
   "source": [
    "#jigger_follow_ups_clean.to_csv('codeclan/checkcheck.csv', index = False, header=True)"
   ]
  },
  {
   "cell_type": "code",
   "execution_count": null,
   "metadata": {},
   "outputs": [],
   "source": [
    "b4_all = jigger_follow_ups_clean[jigger_follow_ups_clean['past_week_30_initial'] >= 0].past_week_30_initial.mean()\n",
    "b4_all\n",
    "                                                                       "
   ]
  },
  {
   "cell_type": "code",
   "execution_count": null,
   "metadata": {},
   "outputs": [],
   "source": [
    "jigger_follow_ups_clean.past_week_30_final.unique()"
   ]
  },
  {
   "cell_type": "code",
   "execution_count": null,
   "metadata": {},
   "outputs": [],
   "source": [
    "now_all = jigger_follow_ups_clean.past_week_30_final.mean()\n",
    "now_all"
   ]
  },
  {
   "cell_type": "code",
   "execution_count": null,
   "metadata": {},
   "outputs": [],
   "source": [
    "overall_activity_followup = pd.DataFrame({\n",
    "    'active': ['before', 'follow_up'],\n",
    "    'days_active_mean':[b4_all, now_all]},\n",
    "    index = [1,2]\n",
    "    )\n",
    "overall_activity_followup"
   ]
  },
  {
   "cell_type": "code",
   "execution_count": null,
   "metadata": {},
   "outputs": [],
   "source": [
    "sns.set_theme(style='whitegrid')\n",
    "age_plot = sns.barplot(x='active', y='days_active_mean', data=overall_activity_followup)\n",
    "plt.ylabel('Mean Days Active')\n",
    "plt.title('Mean Days Active on Joining and After Follow Up  \\n  for all jiggers ( inactive and active)', size = 14, fontweight=\"bold\")\n",
    "plt.savefig('mean_days_active_all.png', dpi=300, bbox_inches='tight')\n",
    "plt.show(age_plot)\n"
   ]
  },
  {
   "cell_type": "code",
   "execution_count": null,
   "metadata": {},
   "outputs": [],
   "source": [
    "# graph of active jiggers - will prob show no improvements\n",
    "# 279 jiggers"
   ]
  },
  {
   "cell_type": "code",
   "execution_count": null,
   "metadata": {},
   "outputs": [],
   "source": [
    "#still_jigging\n",
    "\n",
    "jigger_follow_ups_clean.columns"
   ]
  },
  {
   "cell_type": "code",
   "execution_count": null,
   "metadata": {},
   "outputs": [],
   "source": [
    "#??????????? WHY ACTIVE SHOWING LESS - check numbers -   activity before mean brought down by the inactive but surprisingly follow up activity is lower\n",
    "#we're looking at 445 jiggers here though!"
   ]
  },
  {
   "cell_type": "code",
   "execution_count": null,
   "metadata": {},
   "outputs": [],
   "source": [
    "jigger_follow_ups_clean = jigger_follow_ups_clean[jigger_follow_ups_clean['currentlyRegularActiveFinal'] >= 0]\n",
    "jigger_follow_ups_clean = jigger_follow_ups_clean[jigger_follow_ups_clean['currentlyRegularActive'] == 1]\n",
    "b4_act = jigger_follow_ups_clean[jigger_follow_ups_clean['past_week_30_initial'] >= 0].past_week_30_initial.mean()\n",
    "now_act = jigger_follow_ups_clean[jigger_follow_ups_clean['past_week_30_final'] >= 0].past_week_30_final.mean()"
   ]
  },
  {
   "cell_type": "code",
   "execution_count": null,
   "metadata": {},
   "outputs": [],
   "source": [
    "overall_activity_followup_act = pd.DataFrame({\n",
    "    'active': ['before', 'follow_up'],\n",
    "    'days_active_mean':[b4_act, now_act]},\n",
    "    index = [1,2]\n",
    "    )\n",
    "overall_activity_followup_act"
   ]
  },
  {
   "cell_type": "code",
   "execution_count": null,
   "metadata": {},
   "outputs": [],
   "source": [
    "sns.set_theme(style='whitegrid')\n",
    "age_plot = sns.barplot(x='active', y='days_active_mean', data=overall_activity_followup_act)\n",
    "plt.ylabel('Mean Days Active')\n",
    "plt.title('Mean Days Active on Joining and After Follow Up  \\n  for all jiggers (jiggers initially active on join up)', size = 14, fontweight=\"bold\")\n",
    "plt.savefig('mean_days_active_all.png', dpi=300, bbox_inches='tight')\n",
    "plt.show(age_plot)\n"
   ]
  },
  {
   "cell_type": "code",
   "execution_count": null,
   "metadata": {},
   "outputs": [],
   "source": [
    "# Those considering themselves active not really active or showing much improvement - main positive is that we are making people more active\n",
    "# 166 jiggerS!"
   ]
  },
  {
   "cell_type": "code",
   "execution_count": null,
   "metadata": {},
   "outputs": [],
   "source": []
  },
  {
   "cell_type": "code",
   "execution_count": null,
   "metadata": {},
   "outputs": [],
   "source": []
  }
 ],
 "metadata": {
  "kernelspec": {
   "display_name": "Python 3",
   "language": "python",
   "name": "python3"
  },
  "language_info": {
   "codemirror_mode": {
    "name": "ipython",
    "version": 3
   },
   "file_extension": ".py",
   "mimetype": "text/x-python",
   "name": "python",
   "nbconvert_exporter": "python",
   "pygments_lexer": "ipython3",
   "version": "3.8.3"
  }
 },
 "nbformat": 4,
 "nbformat_minor": 4
}
