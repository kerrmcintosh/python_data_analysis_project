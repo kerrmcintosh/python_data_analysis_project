{
 "cells": [
  {
   "cell_type": "code",
   "execution_count": null,
   "metadata": {},
   "outputs": [],
   "source": [
    "import pandas as pd\n",
    "jigger_follow_ups_clean = pd.read_csv(\"codeclan/jigger_follow_ups_clean.csv\")\n",
    "jigger_details_clean = pd.read_csv(\"codeclan/jigger_details_clean.csv\")\n",
    "still_jigging = pd.read_csv(\"codeclan/still_jigging.csv\")\n",
    "import pandas as pd\n",
    "import numpy as np\n",
    "%matplotlib inline\n",
    "from matplotlib import pyplot as plt\n",
    "import seaborn as sns"
   ]
  },
  {
   "cell_type": "code",
   "execution_count": null,
   "metadata": {},
   "outputs": [],
   "source": [
    "#get rid of rows with no data relating to past month activity\n",
    "jigger_details_clean = jigger_details_clean[jigger_details_clean['past_week_30_initial'] != -1]\n",
    "jigger_details_clean = jigger_details_clean[jigger_details_clean['past_week_30_final'] != -1]"
   ]
  },
  {
   "cell_type": "code",
   "execution_count": null,
   "metadata": {},
   "outputs": [],
   "source": [
    "jigger_details_clean['simd_d'].unique()"
   ]
  },
  {
   "cell_type": "code",
   "execution_count": null,
   "metadata": {},
   "outputs": [],
   "source": [
    "jigger_details_clean['simd_d'] = jigger_details_clean['simd_d'].astype(int)\n",
    "jigger_details_clean = jigger_details_clean[jigger_details_clean['simd_d'] != 0]\n",
    "\n",
    "simd_active = jigger_details_clean\n",
    "simd_active.shape\n",
    "# SO we only have 422 jiggers (active and non active before) with SIMD location and gave past week activities"
   ]
  },
  {
   "cell_type": "code",
   "execution_count": null,
   "metadata": {},
   "outputs": [],
   "source": [
    "simd_active = simd_active[simd_active['currentlyRegularActive'] == 0]\n",
    "simd_active.shape\n",
    "# SO we only have 270 jiggers (non active before) with SIMD location and provided past week activities"
   ]
  },
  {
   "cell_type": "code",
   "execution_count": null,
   "metadata": {},
   "outputs": [],
   "source": [
    "simd_active = simd_active[simd_active['year'] >= 2017]\n",
    "simd_active.shape"
   ]
  },
  {
   "cell_type": "code",
   "execution_count": null,
   "metadata": {},
   "outputs": [],
   "source": [
    "simd_active[simd_active['simd_d'] < 4].shape\n",
    "# 36 jiggers in SIMD zones 1-3"
   ]
  },
  {
   "cell_type": "code",
   "execution_count": null,
   "metadata": {},
   "outputs": [],
   "source": [
    "simd_active[simd_active['simd_d'] == 1].shape\n",
    "# 11 jiggers in SIMD zones 1\n",
    "\n",
    "#NOTE IN REPORT - not enough data to look at improvements in daily activity"
   ]
  },
  {
   "cell_type": "code",
   "execution_count": null,
   "metadata": {},
   "outputs": [],
   "source": [
    "\n",
    "\n",
    "simd_active =  simd_active.groupby(['simd_d']).agg({'past_week_30_initial' : np.mean, 'past_week_30_final' : np.mean}).round(2).reset_index()\n",
    "\n",
    "simd_active\n"
   ]
  },
  {
   "cell_type": "code",
   "execution_count": null,
   "metadata": {},
   "outputs": [],
   "source": [
    "simd_active = pd.melt(simd_active, id_vars=\"simd_d\", var_name=\"active\", value_name=\"mean\")"
   ]
  },
  {
   "cell_type": "code",
   "execution_count": null,
   "metadata": {},
   "outputs": [],
   "source": [
    "simd_active.rename(columns={'past_week_30_initial':'initial', 'past_week_30_final': 'on_follow_up'}, inplace = True)"
   ]
  },
  {
   "cell_type": "code",
   "execution_count": null,
   "metadata": {},
   "outputs": [],
   "source": [
    "\n",
    "sns.set_theme(style='whitegrid')\n",
    "sns.factorplot(x='simd_d', y='mean', hue='active', kind='bar', data=simd_active, legend = False)\n",
    "plt.ylabel('Mean Days Activity in Last 30 Days')\n",
    "plt.xlabel('SIMD Classification')\n",
    "plt.title('Mean Days Active in Last 30 Days by SIMD Decile \\n Initially Inactive jiggers . Since 2012', size = 14, fontweight=\"bold\")\n",
    "plt.legend(loc='right', bbox_to_anchor=(0.95, -0.12))\n",
    "plt.gcf().set_size_inches(8, 5)\n",
    "plt.savefig('images/simd_meanact.png', dpi=300, bbox_inches='tight')\n",
    "#plt.legend(title='Has Health Problems?')\n",
    "plt.show()"
   ]
  },
  {
   "cell_type": "markdown",
   "metadata": {},
   "source": [
    "##### look at mean activity improvements for SIMD ranks 1-3"
   ]
  },
  {
   "cell_type": "code",
   "execution_count": null,
   "metadata": {},
   "outputs": [],
   "source": [
    "simd1_3_active = jigger_follow_ups_clean\n",
    "simd1_3_active = simd1_3_active[simd1_3_active['year'] >= 2017]\n",
    "simd1_3_active = simd1_3_active[simd1_3_active['simd_d'] < 4]\n",
    "simd1_3_active = simd1_3_active[simd1_3_active['simd_d'] != 0]\n",
    "simd1_3_active.shape"
   ]
  },
  {
   "cell_type": "code",
   "execution_count": null,
   "metadata": {},
   "outputs": [],
   "source": [
    "simd1_3_init_mean = simd1_3_active.past_week_30_initial.mean()"
   ]
  },
  {
   "cell_type": "code",
   "execution_count": null,
   "metadata": {},
   "outputs": [],
   "source": [
    "simd1_3_fin_mean = simd1_3_active.past_week_30_final.mean()"
   ]
  },
  {
   "cell_type": "code",
   "execution_count": null,
   "metadata": {},
   "outputs": [],
   "source": [
    "simd1_3_fin_mean"
   ]
  },
  {
   "cell_type": "code",
   "execution_count": null,
   "metadata": {},
   "outputs": [],
   "source": [
    "simd1_3_active = pd.DataFrame({\n",
    "    'active': ['before', 'follow_up'],\n",
    "    'days_active_mean':[simd1_3_init_mean, simd1_3_fin_mean]},\n",
    "    index = [1,2]\n",
    "    )\n",
    "simd1_3_active"
   ]
  },
  {
   "cell_type": "code",
   "execution_count": null,
   "metadata": {},
   "outputs": [],
   "source": [
    "sns.set_theme(style='whitegrid')\n",
    "age_plot = sns.barplot(x='active', y='days_active_mean', data=simd1_3_active)\n",
    "plt.ylabel('Mean Days Active')\n",
    "plt.title('Mean Days Active on Joining and After Follow Up  \\n  for SIMD zone 1-3 jiggers ( inactive and active) from 2017', size = 14, fontweight=\"bold\")\n",
    "plt.savefig('mean_days_active_all.png', dpi=300, bbox_inches='tight')\n",
    "plt.show(age_plot)"
   ]
  },
  {
   "cell_type": "code",
   "execution_count": null,
   "metadata": {},
   "outputs": [],
   "source": [
    "simd1_3_active = jigger_follow_ups_clean\n",
    "simd1_3_active = simd1_3_active[simd1_3_active['year'] >= 2017]\n",
    "simd1_3_active = simd1_3_active[simd1_3_active['simd_d'] < 4]\n",
    "simd1_3_active = simd1_3_active[simd1_3_active['simd_d'] != 0]\n",
    "simd1_3_active = simd1_3_active[simd1_3_active['currentlyRegularActive'] == 0]\n",
    "simd1_3_active.shape\n",
    "#Only 36 jiggers!"
   ]
  },
  {
   "cell_type": "code",
   "execution_count": null,
   "metadata": {},
   "outputs": [],
   "source": [
    "simd1_3_init_mean = simd1_3_active.past_week_30_initial.mean()\n",
    "simd1_3_fin_mean = simd1_3_active.past_week_30_final.mean()\n",
    "simd1_3_active = pd.DataFrame({\n",
    "    'active': ['before', 'follow_up'],\n",
    "    'days_active_mean':[simd1_3_init_mean, simd1_3_fin_mean]},\n",
    "    index = [1,2]\n",
    "    )\n",
    "simd1_3_active"
   ]
  },
  {
   "cell_type": "code",
   "execution_count": null,
   "metadata": {},
   "outputs": [],
   "source": [
    "sns.set_theme(style='whitegrid')\n",
    "age_plot = sns.barplot(x='active', y='days_active_mean', data=simd1_3_active)\n",
    "plt.ylabel('Mean Days Active')\n",
    "plt.title('Mean Days Active on Joining and After Follow Up  \\n  for SIMD zone 1-3 jiggers (INACTIVE) from 2017', size = 14, fontweight=\"bold\")\n",
    "plt.savefig('mean_days_active_all.png', dpi=300, bbox_inches='tight')\n",
    "plt.show(age_plot)"
   ]
  },
  {
   "cell_type": "code",
   "execution_count": null,
   "metadata": {},
   "outputs": [],
   "source": [
    "simd1_3_active = jigger_follow_ups_clean\n",
    "simd1_3_active = simd1_3_active[simd1_3_active['year'] >= 2017]\n",
    "simd1_3_active = simd1_3_active[simd1_3_active['simd_d'] < 4]\n",
    "simd1_3_active = simd1_3_active[simd1_3_active['simd_d'] != 0]\n",
    "simd1_3_active = simd1_3_active[simd1_3_active['currentlyRegularActive'] == 0]\n",
    "simd1_3_active.shape"
   ]
  },
  {
   "cell_type": "code",
   "execution_count": null,
   "metadata": {},
   "outputs": [],
   "source": [
    "simd1_3_init_count = simd1_3_active.currentlyRegularActive.nunique()\n",
    "simd1_3_fin_count = simd1_3_active.currentlyRegularActiveFinal.nunique()\n",
    "\n",
    "simd1_3_active = simd1_3_active.groupby(['currentlyRegularActiveFinal'])['userID'].nunique().reset_index()\n",
    "simd1_3_active"
   ]
  },
  {
   "cell_type": "code",
   "execution_count": null,
   "metadata": {},
   "outputs": [],
   "source": [
    "simd1_3_active['Percentage'] = 100 * simd1_3_active['userID']  / simd1_3_active['userID'].sum().astype(int)\n",
    "simd1_3_active.round(0)"
   ]
  },
  {
   "cell_type": "code",
   "execution_count": null,
   "metadata": {},
   "outputs": [],
   "source": [
    "# Pie chart, where the slices will be ordered and plotted counter-clockwise:\n",
    "labels = 'Still Active', 'No Longer Active'\n",
    "sizes = [89 , 11]\n",
    "colors = ['lightskyblue', 'salmon']\n",
    "fig1, ax1 = plt.subplots()\n",
    "ax1.pie(sizes, labels=labels, autopct='%1.1f%%',\n",
    "        shadow=True, startangle=90, colors=colors)\n",
    "ax1.axis('equal')  # Equal aspect ratio ensures that pie is drawn as a circle.\n",
    "plt.title('6 Month Follow Up on Initially Inactive Users \\n SIMD Zones 1-3 (Since 2012)', size = 14, fontweight=\"bold\")\n",
    "plt.savefig('images/simd13pie.png', dpi=300, bbox_inches='tight')\n",
    "plt.show()\n",
    "# be this jigging or anpther activity"
   ]
  },
  {
   "cell_type": "markdown",
   "metadata": {},
   "source": [
    "## Note this is only 36 jiggers"
   ]
  },
  {
   "cell_type": "markdown",
   "metadata": {},
   "source": [
    "#####Where are our lowest SIMDs located?"
   ]
  },
  {
   "cell_type": "code",
   "execution_count": null,
   "metadata": {},
   "outputs": [],
   "source": [
    "simd_locale = jigger_details_clean[jigger_details_clean['simd_d']  <= 3] "
   ]
  },
  {
   "cell_type": "code",
   "execution_count": null,
   "metadata": {},
   "outputs": [],
   "source": [
    "simd_locale = simd_locale.groupby('localAuthority')['userID'].nunique().reset_index()"
   ]
  },
  {
   "cell_type": "code",
   "execution_count": null,
   "metadata": {},
   "outputs": [],
   "source": [
    "simd_locale['Percentage'] = 100 * simd_locale['userID']  / simd_locale['userID'].sum().round(0)"
   ]
  },
  {
   "cell_type": "code",
   "execution_count": null,
   "metadata": {},
   "outputs": [],
   "source": [
    "simd_locale = simd_locale[simd_locale['Percentage'] > 4]\n",
    "simd_locale.round(0)\n",
    "simd_locale = simd_locale.sort_values(by='Percentage', ascending=False)"
   ]
  },
  {
   "cell_type": "code",
   "execution_count": null,
   "metadata": {},
   "outputs": [],
   "source": [
    "sns.set_theme(style='whitegrid')\n",
    "age_plot = sns.barplot(y='localAuthority', x='Percentage', data=simd_locale, palette=['lightsteelblue', 'bisque', 'plum', 'forestgreen' ,'teal', 'salmon'])\n",
    "plt.xlabel('Percentage of SIMD Decile Zones 1 -3 ')\n",
    "plt.ylabel('Local Authority')\n",
    "plt.title('Local Authorities with the highest number of SIMD Zone 1-3  \\n since 2012' , size = 14, fontweight=\"bold\")\n",
    "plt.savefig('images/localauthsimd.png', dpi=300, bbox_inches='tight')\n",
    "plt.show(age_plot)"
   ]
  },
  {
   "cell_type": "markdown",
   "metadata": {},
   "source": [
    "##### Health Condition and related activity"
   ]
  },
  {
   "cell_type": "code",
   "execution_count": null,
   "metadata": {},
   "outputs": [],
   "source": [
    "fu_health_check = jigger_follow_ups_clean[jigger_follow_ups_clean['currentlyRegularActiveFinal'] >= 0]"
   ]
  },
  {
   "cell_type": "code",
   "execution_count": null,
   "metadata": {},
   "outputs": [],
   "source": [
    "fu_health_check.shape"
   ]
  },
  {
   "cell_type": "code",
   "execution_count": null,
   "metadata": {},
   "outputs": [],
   "source": [
    "# of people who responded to survey\n",
    "health_cond_activity = fu_health_check.groupby(['has_health_problem']).agg({'currentlyRegularActive' : np.sum, 'currentlyRegularActiveFinal' : np.sum}).round(2).reset_index()\n",
    "health_cond_activity['percentage_increase'] = (((health_cond_activity['currentlyRegularActiveFinal'] - health_cond_activity['currentlyRegularActive']) / health_cond_activity['currentlyRegularActive'])*100).round(0)\n",
    "health_cond_activity\n",
    "health_cond_activity.rename(columns={'currentlyRegularActive':'initially_active', 'currentlyRegularActiveFinal': 'active_on_follow_up'}, inplace = True)"
   ]
  },
  {
   "cell_type": "code",
   "execution_count": null,
   "metadata": {},
   "outputs": [],
   "source": [
    "health_cond_activity_graph = health_cond_activity.drop(['percentage_increase'], axis=1)"
   ]
  },
  {
   "cell_type": "code",
   "execution_count": null,
   "metadata": {},
   "outputs": [],
   "source": [
    "\n",
    "health_cond_activity_graph = pd.melt(health_cond_activity_graph, id_vars=\"has_health_problem\", var_name=\"active\", value_name=\"count\")"
   ]
  },
  {
   "cell_type": "code",
   "execution_count": null,
   "metadata": {},
   "outputs": [],
   "source": [
    "health_cond_activity_graph.rename(columns={'active':'jigger_active'}, inplace = True)\n",
    "health_cond_activity_graph"
   ]
  },
  {
   "cell_type": "code",
   "execution_count": null,
   "metadata": {},
   "outputs": [],
   "source": [
    "\n",
    "sns.factorplot(x='has_health_problem', y='count', hue='jigger_active', kind='bar', data=health_cond_activity_graph).legend.remove()\n",
    "plt.ylabel('Count')\n",
    "plt.xlabel('Have Health Condition?')\n",
    "sns.set_style(\"whitegrid\")\n",
    "plt.legend(title=\"\", fancybox=True)\n",
    "plt.savefig('images/mean_days_active_health', dpi=300, bbox_inches='tight')\n",
    "#plt.legend(title='Has Health Problems?')\n",
    "plt.show()"
   ]
  },
  {
   "cell_type": "code",
   "execution_count": null,
   "metadata": {},
   "outputs": [],
   "source": [
    "# Box next to it with percentage increase\n",
    "# better label - 6 month later active?\n",
    "# in my notes have actual numbers"
   ]
  },
  {
   "cell_type": "code",
   "execution_count": null,
   "metadata": {},
   "outputs": [],
   "source": []
  },
  {
   "cell_type": "markdown",
   "metadata": {},
   "source": [
    "##### scheme performance and percentage increase"
   ]
  },
  {
   "cell_type": "code",
   "execution_count": null,
   "metadata": {},
   "outputs": [],
   "source": [
    "# number of schemes 231\n",
    "jigger_follow_ups_clean.scheme.nunique()"
   ]
  },
  {
   "cell_type": "code",
   "execution_count": null,
   "metadata": {},
   "outputs": [],
   "source": [
    "jigger_follow_ups_clean[jigger_follow_ups_clean['currentlyRegularActiveFinal'] == 0].scheme.nunique()"
   ]
  },
  {
   "cell_type": "code",
   "execution_count": null,
   "metadata": {},
   "outputs": [],
   "source": [
    "fu_health_check = jigger_follow_ups_clean[jigger_follow_ups_clean['currentlyRegularActiveFinal'] == 0]\n",
    "scheme_success = fu_health_check.groupby(['scheme']).agg({'currentlyRegularActive' : np.sum, 'currentlyRegularActiveFinal' : np.sum, 'past_week_30_initial' : np.mean, 'past_week_30_final' : np.mean}).round(2).reset_index()\n",
    "scheme_success['percentage_increase_active'] = (((scheme_success['currentlyRegularActiveFinal'] - scheme_success['currentlyRegularActive']) / scheme_success['currentlyRegularActive'])*100).round(0)\n",
    "scheme_success['percentage_increase_days'] = (((scheme_success['past_week_30_final'] - scheme_success['past_week_30_initial']) / scheme_success['past_week_30_initial'])*100).round(0)\n",
    "scheme_success = scheme_success.sort_values(by='percentage_increase_days', ascending=False)\n",
    "scheme_success = scheme_success[(scheme_success['past_week_30_initial'] != 0) & (scheme_success['past_week_30_final'] != 0)]\n",
    "scheme_success = scheme_success.head(10)\n",
    "scheme_success_graph = scheme_success.drop(['currentlyRegularActive', 'currentlyRegularActiveFinal',\n",
    "       'percentage_increase_active', 'percentage_increase_days'], axis=1)\n",
    "scheme_success_graph = scheme_success_graph.sort_values(by='past_week_30_final', ascending=False)"
   ]
  },
  {
   "cell_type": "code",
   "execution_count": null,
   "metadata": {},
   "outputs": [],
   "source": [
    "#Not enough data!"
   ]
  },
  {
   "cell_type": "code",
   "execution_count": null,
   "metadata": {},
   "outputs": [],
   "source": [
    "scheme_success_graph"
   ]
  },
  {
   "cell_type": "code",
   "execution_count": null,
   "metadata": {},
   "outputs": [],
   "source": [
    "\n",
    "scheme_success_graph['percent'] = ((scheme_success_graph['past_week_30_final'] - scheme_success_graph['past_week_30_initial']/ scheme_success_graph['past_week_30_initial'])*100).round(0).astype(int)\n",
    "scheme_success_graph = scheme_success_graph.sort_values(by='percent', ascending=False)\n",
    "scheme_success_graph.head(60)"
   ]
  },
  {
   "cell_type": "code",
   "execution_count": null,
   "metadata": {},
   "outputs": [],
   "source": [
    "scheme_success_graph = pd.melt(scheme_success_graph, id_vars=\"scheme\", var_name=\"30_day_activity\", value_name=\"mean\")\n"
   ]
  },
  {
   "cell_type": "markdown",
   "metadata": {},
   "source": [
    "###SIMD TIME to get month and year\n",
    "but decided to go with year as not enough data to do month year"
   ]
  },
  {
   "cell_type": "code",
   "execution_count": null,
   "metadata": {},
   "outputs": [],
   "source": [
    "\n",
    "sns.set_theme(style='whitegrid')\n",
    "sns.factorplot(y='scheme', x='mean', hue='30_day_activity', palette=[\"gold\", \"C2\"],  kind='bar', data=scheme_success_graph, legend=False)\n",
    "plt.xlabel('Mean days active in last 30 days')\n",
    "plt.ylabel('Top 10 Performing Schemes')\n",
    "plt.title('Top 10 Performing Schemes in increasing mean daily activity')\n",
    "plt.gcf().set_size_inches(15, 7)\n",
    "plt.legend(loc='right', bbox_to_anchor=(0.95, -0.1))\n",
    "plt.savefig('images/schemes.png', dpi=300, bbox_inches='tight')\n",
    "plt.show()\n",
    "#. when time improve dimensions and move legend under"
   ]
  },
  {
   "cell_type": "markdown",
   "metadata": {},
   "source": [
    "##### SIMD proportions over time"
   ]
  },
  {
   "cell_type": "code",
   "execution_count": null,
   "metadata": {},
   "outputs": [],
   "source": [
    "#  everyone defining themselves as inactive and active on joining\n",
    "\n",
    "simd_time = jigger_follow_ups_clean[jigger_follow_ups_clean['currentlyRegularActive'] >= 0]\n",
    "simd_time = simd_time[simd_time['past_week_30_final'] >= 0]\n",
    "simd_time = simd_time[simd_time['past_week_30_initial'] >= 0]\n",
    "simd_time.rename(columns={'past_week_30_initial':'initial', 'past_week_30_final': 'on_follow_up'}, inplace = True)\n"
   ]
  },
  {
   "cell_type": "code",
   "execution_count": null,
   "metadata": {},
   "outputs": [],
   "source": [
    "simd_time =simd_time.drop_duplicates()"
   ]
  },
  {
   "cell_type": "code",
   "execution_count": null,
   "metadata": {},
   "outputs": [],
   "source": [
    "simd_time.shape"
   ]
  },
  {
   "cell_type": "code",
   "execution_count": null,
   "metadata": {},
   "outputs": [],
   "source": [
    "simd_time = simd_time[simd_time['simd_d'] != 0]"
   ]
  },
  {
   "cell_type": "code",
   "execution_count": null,
   "metadata": {},
   "outputs": [],
   "source": [
    "simd_time.simd_d.unique()"
   ]
  },
  {
   "cell_type": "code",
   "execution_count": null,
   "metadata": {},
   "outputs": [],
   "source": [
    "simd_1 = simd_time[simd_time['simd_d'] == 1]"
   ]
  },
  {
   "cell_type": "code",
   "execution_count": null,
   "metadata": {},
   "outputs": [],
   "source": [
    "simd_1 = simd_1[simd_1['initial'] <= 1]"
   ]
  },
  {
   "cell_type": "code",
   "execution_count": null,
   "metadata": {},
   "outputs": [],
   "source": [
    "simd_all = simd_time[simd_time['simd_d'] >= 1]\n",
    "simd_all = simd_all[simd_all['initial'] <= 1]\n",
    "simd_all = simd_all[simd_all['on_follow_up'] >= 1]"
   ]
  },
  {
   "cell_type": "code",
   "execution_count": null,
   "metadata": {},
   "outputs": [],
   "source": [
    "simd_1 = simd_1[simd_1['on_follow_up'] >= 1]"
   ]
  },
  {
   "cell_type": "code",
   "execution_count": null,
   "metadata": {},
   "outputs": [],
   "source": [
    "### only 22 simd_1 with data to analyse"
   ]
  },
  {
   "cell_type": "code",
   "execution_count": null,
   "metadata": {},
   "outputs": [],
   "source": [
    "simd_time['joinDate'].head()"
   ]
  },
  {
   "cell_type": "code",
   "execution_count": null,
   "metadata": {},
   "outputs": [],
   "source": [
    "import datetime\n",
    "from datetime import datetime\n",
    "#simd_time['new_date'] = simd_time['joinDate'].apply(lambda x: datetime.strptime(x, '%Y-%m-%d %H:%M:%S'))"
   ]
  },
  {
   "cell_type": "code",
   "execution_count": null,
   "metadata": {},
   "outputs": [],
   "source": [
    "#simd_time['month_year'] = pd.to_datetime(simd_time['new_date']).dt.to_period('M')"
   ]
  },
  {
   "cell_type": "code",
   "execution_count": null,
   "metadata": {},
   "outputs": [],
   "source": [
    "#simd_time['month_year'].head()"
   ]
  },
  {
   "cell_type": "code",
   "execution_count": null,
   "metadata": {},
   "outputs": [],
   "source": [
    "\n",
    "#simd_time['year'] = pd.to_datetime(simd_time.joinDate, errors =\"coerce\" )\n",
    "#simd_time['year'] = simd_time['year'].dt.month.astype('Int64')\n",
    "#simd_time =simd_time[simd_time['month_year'] >= '2011-12']\n",
    "#simd_time =simd_time[simd_time['simd_d'] == 1]"
   ]
  },
  {
   "cell_type": "code",
   "execution_count": null,
   "metadata": {},
   "outputs": [],
   "source": [
    "#simd_time = simd_time.groupby(['simd_d', 'month_year']).agg({'initial' : np.mean, 'on_follow_up' : np.mean}).round(2).reset_index()"
   ]
  },
  {
   "cell_type": "code",
   "execution_count": null,
   "metadata": {},
   "outputs": [],
   "source": [
    "#simd_time"
   ]
  },
  {
   "cell_type": "code",
   "execution_count": null,
   "metadata": {},
   "outputs": [],
   "source": [
    "#simd_time['percentage_growth_act_days'] =  (((simd_time['on_follow_up'] - simd_time['initial'] ) / simd_time['initial'])*100).round(0)"
   ]
  },
  {
   "cell_type": "code",
   "execution_count": null,
   "metadata": {},
   "outputs": [],
   "source": [
    "#simd_time['change'] =  simd_time['on_follow_up'] - simd_time['initial'] \n"
   ]
  },
  {
   "cell_type": "code",
   "execution_count": null,
   "metadata": {},
   "outputs": [],
   "source": [
    "#simd_time= simd_time.sort_values(by=['month_year', 'simd_d'])"
   ]
  },
  {
   "cell_type": "code",
   "execution_count": null,
   "metadata": {},
   "outputs": [],
   "source": [
    "#simd_time"
   ]
  },
  {
   "cell_type": "code",
   "execution_count": null,
   "metadata": {},
   "outputs": [],
   "source": [
    "#simd_time['month_year'] = simd_time['month_year'].dt.strftime('%Y-%m')"
   ]
  },
  {
   "cell_type": "code",
   "execution_count": null,
   "metadata": {},
   "outputs": [],
   "source": [
    "#simd_time_graph = sns.lineplot(data = simd_time, x='month_year', y='on_follow_up', hue='simd_d')\n",
    "#plt.ylabel('Change in Mean Active Days in Last 30 Days')\n",
    "#plt.xlabel('Year')\n",
    "#plt.title('SIMD Mean Activity Chnage over time')\n",
    "#plt.savefig('simd_time.png', dpi=300, bbox_inches='tight')\n",
    "#plt.xticks(rotation=90)\n",
    "#simd_time_graph "
   ]
  },
  {
   "cell_type": "code",
   "execution_count": null,
   "metadata": {},
   "outputs": [],
   "source": [
    "simd_time.columns"
   ]
  },
  {
   "cell_type": "code",
   "execution_count": null,
   "metadata": {},
   "outputs": [],
   "source": [
    "simd_time = simd_time[simd_time['initial'] != 0]\n",
    "simd_time = simd_time[simd_time['on_follow_up'] != 0]\n",
    "simd_time['year'] = pd.to_datetime(jigger_follow_ups_clean.joinDate, errors =\"coerce\" )\n",
    "simd_time['year'] = simd_time['year'].dt.year.astype('Int64')\n",
    "simd_time = simd_time.groupby(['year', 'simd_d']).agg({'initial' : np.mean, 'on_follow_up' : np.mean}).round(2)\n",
    "simd_time = simd_time.reset_index()\n",
    "simd_time = simd_time[simd_time['simd_d'] >= 1]\n",
    "simd_time['year'] = simd_time.year.astype(str)"
   ]
  },
  {
   "cell_type": "code",
   "execution_count": null,
   "metadata": {},
   "outputs": [],
   "source": [
    "simd_time.columns"
   ]
  },
  {
   "cell_type": "code",
   "execution_count": null,
   "metadata": {},
   "outputs": [],
   "source": [
    "simd_time['change'] =  simd_time['on_follow_up'] - simd_time['initial'] \n",
    "simd_time =simd_time[simd_time['year'] >= '2012']"
   ]
  },
  {
   "cell_type": "code",
   "execution_count": null,
   "metadata": {},
   "outputs": [],
   "source": [
    "simd_time= simd_time.sort_values(by=['simd_d', 'year'])"
   ]
  },
  {
   "cell_type": "markdown",
   "metadata": {},
   "source": [
    "#### There's not enough data to take meaningful insight into SIMD xones 1-3 over time"
   ]
  },
  {
   "cell_type": "code",
   "execution_count": null,
   "metadata": {},
   "outputs": [],
   "source": [
    "simd_time[simd_time['simd_d'] == 1].shape"
   ]
  },
  {
   "cell_type": "code",
   "execution_count": null,
   "metadata": {},
   "outputs": [],
   "source": [
    "simd_time"
   ]
  }
 ],
 "metadata": {
  "kernelspec": {
   "display_name": "Python 3",
   "language": "python",
   "name": "python3"
  },
  "language_info": {
   "codemirror_mode": {
    "name": "ipython",
    "version": 3
   },
   "file_extension": ".py",
   "mimetype": "text/x-python",
   "name": "python",
   "nbconvert_exporter": "python",
   "pygments_lexer": "ipython3",
   "version": "3.8.3"
  }
 },
 "nbformat": 4,
 "nbformat_minor": 4
}
