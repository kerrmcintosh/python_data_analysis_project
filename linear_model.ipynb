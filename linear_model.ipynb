{
 "cells": [
  {
   "cell_type": "code",
   "execution_count": null,
   "metadata": {},
   "outputs": [],
   "source": [
    "import pandas as pd\n",
    "jigger_follow_ups_clean = pd.read_csv(\"codeclan/jigger_follow_ups_clean.csv\")\n",
    "jigger_details_clean = pd.read_csv(\"codeclan/jigger_details_clean.csv\")\n",
    "reasons = pd.read_csv(\"codeclan/joining_reasons.csv\")\n",
    "import numpy as np\n",
    "%matplotlib inline\n",
    "from matplotlib import pyplot as plt\n",
    "import seaborn as sns"
   ]
  },
  {
   "cell_type": "code",
   "execution_count": null,
   "metadata": {},
   "outputs": [],
   "source": [
    "\n",
    "reasons.rename(columns = {\"id\" : \"userID\"}, inplace = True)\n",
    "jigger_lm = reasons"
   ]
  },
  {
   "cell_type": "code",
   "execution_count": null,
   "metadata": {},
   "outputs": [],
   "source": [
    "#jigger_follow_ups_clean = jigger_follow_ups_clean.drop(jigger_follow_ups_clean.columns.difference(['past_week_30_final', 'userID']), 1).drop_duplicates()"
   ]
  },
  {
   "cell_type": "code",
   "execution_count": null,
   "metadata": {},
   "outputs": [],
   "source": [
    "#jigger_follow_ups_clean"
   ]
  },
  {
   "cell_type": "code",
   "execution_count": null,
   "metadata": {},
   "outputs": [],
   "source": [
    "#jigger_lm = jigger_follow_ups_clean.dropna(subset=['past_week_30_final'])"
   ]
  },
  {
   "cell_type": "code",
   "execution_count": null,
   "metadata": {},
   "outputs": [],
   "source": [
    "#jigger_lm.shape"
   ]
  },
  {
   "cell_type": "code",
   "execution_count": null,
   "metadata": {},
   "outputs": [],
   "source": [
    "#jigger_lm = pd.merge(jigger_lm, reasons, how='left', on=['userID'])"
   ]
  },
  {
   "cell_type": "code",
   "execution_count": null,
   "metadata": {},
   "outputs": [],
   "source": [
    "jigger_lm.columns"
   ]
  },
  {
   "cell_type": "code",
   "execution_count": null,
   "metadata": {},
   "outputs": [],
   "source": [
    "jigger_lm['simd_d'] = jigger_lm.simd_d.astype(str)"
   ]
  },
  {
   "cell_type": "code",
   "execution_count": null,
   "metadata": {},
   "outputs": [],
   "source": [
    "jigger_lm['percentage_growth_act_days'] =  (((jigger_lm['past_week_30_final'] - jigger_lm['past_week_30_initial'] ) / jigger_lm['past_week_30_initial'])*100).round(0)\n",
    "jigger_lm = jigger_lm[(jigger_lm['past_week_30_final'] != 0) & (jigger_lm['past_week_30_initial'] != 0)]                                                    "
   ]
  },
  {
   "cell_type": "code",
   "execution_count": null,
   "metadata": {},
   "outputs": [],
   "source": [
    "jigger_lm.columns"
   ]
  },
  {
   "cell_type": "code",
   "execution_count": null,
   "metadata": {},
   "outputs": [],
   "source": [
    "jigger_lm = jigger_lm.drop(['past_week_30_initial', 'past_week_30_final', 'currentlyRegularActiveFinal', 'userID'], axis=1).drop_duplicates()"
   ]
  },
  {
   "cell_type": "markdown",
   "metadata": {},
   "source": [
    "##### Dataset ready"
   ]
  },
  {
   "cell_type": "code",
   "execution_count": null,
   "metadata": {},
   "outputs": [],
   "source": [
    "import pandas_profiling\n",
    "pandas_profiling.ProfileReport(jigger_lm)"
   ]
  },
  {
   "cell_type": "code",
   "execution_count": null,
   "metadata": {},
   "outputs": [],
   "source": [
    "#get dummies\n",
    "jigger_lm = pd.get_dummies(jigger_lm, drop_first = True)"
   ]
  },
  {
   "cell_type": "code",
   "execution_count": null,
   "metadata": {},
   "outputs": [],
   "source": [
    "from sklearn.linear_model import LinearRegression"
   ]
  },
  {
   "cell_type": "code",
   "execution_count": null,
   "metadata": {},
   "outputs": [],
   "source": [
    "jigger_lm.columns"
   ]
  },
  {
   "cell_type": "code",
   "execution_count": null,
   "metadata": {},
   "outputs": [],
   "source": [
    "y = jigger_lm['percentage_growth_act_days']\n",
    "X = jigger_lm.drop('percentage_growth_act_days',axis=1)"
   ]
  },
  {
   "cell_type": "code",
   "execution_count": null,
   "metadata": {},
   "outputs": [],
   "source": [
    "model = LinearRegression()\n",
    "model.fit(X,y)"
   ]
  },
  {
   "cell_type": "code",
   "execution_count": null,
   "metadata": {},
   "outputs": [],
   "source": [
    "model.score(X, y)\n",
    "# 0.35 - not amazing - our model wont be great at predicting our target"
   ]
  },
  {
   "cell_type": "code",
   "execution_count": null,
   "metadata": {},
   "outputs": [],
   "source": [
    "coefficients = pd.DataFrame({\n",
    "    \"Variable\": X.columns.values,\n",
    "    \"Coefficient\" : model.coef_\n",
    "})\n",
    "coefficients"
   ]
  },
  {
   "cell_type": "code",
   "execution_count": null,
   "metadata": {},
   "outputs": [],
   "source": [
    "coefficients = coefficients[coefficients['Coefficient'] <=0.05]\n",
    "coefficients = coefficients[coefficients['Coefficient'] >=0.05]\n",
    "coefficients"
   ]
  },
  {
   "cell_type": "code",
   "execution_count": null,
   "metadata": {},
   "outputs": [],
   "source": [
    "#now for p values\n",
    "import statsmodels.api as sm\n",
    "X_i = sm.add_constant(X)\n",
    "X_i.head()"
   ]
  },
  {
   "cell_type": "code",
   "execution_count": null,
   "metadata": {},
   "outputs": [],
   "source": [
    "sm_model = sm.OLS(y, X_i).fit()\n",
    "print(sm_model.summary())"
   ]
  },
  {
   "cell_type": "code",
   "execution_count": null,
   "metadata": {},
   "outputs": [],
   "source": [
    "# Certain schemes and local authority areas seemed good predictors of best percentage increase \n",
    "#Also, if you were already currently active, you lived ub a 2nd or 6th decile SIMD area, your aged 35 - 44 or aged 65 - 74\n",
    "#Any of our other variables didnt provide meaningful difference - surprisingly, even thos elike health problem?"
   ]
  }
 ],
 "metadata": {
  "kernelspec": {
   "display_name": "Python 3",
   "language": "python",
   "name": "python3"
  },
  "language_info": {
   "codemirror_mode": {
    "name": "ipython",
    "version": 3
   },
   "file_extension": ".py",
   "mimetype": "text/x-python",
   "name": "python",
   "nbconvert_exporter": "python",
   "pygments_lexer": "ipython3",
   "version": "3.8.3"
  }
 },
 "nbformat": 4,
 "nbformat_minor": 4
}
